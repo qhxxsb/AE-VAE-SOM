{
 "cells": [
  {
   "cell_type": "markdown",
   "metadata": {},
   "source": [
    "# This notebook is made for the sampling problems"
   ]
  },
  {
   "cell_type": "markdown",
   "metadata": {},
   "source": [
    "Here is the link: [Handbook for hypothesis test](https://www.itl.nist.gov/div898/handbook/pmc/section2/pmc24.htm)"
   ]
  },
  {
   "cell_type": "markdown",
   "metadata": {},
   "source": [
    "## Single Sample hypothesis test"
   ]
  },
  {
   "cell_type": "markdown",
   "metadata": {},
   "source": [
    " **Choosing a Sampling Plan with a given OC Curve**"
   ]
  },
  {
   "cell_type": "markdown",
   "metadata": {},
   "source": [
    "The probability of observing exactly d defectives is given by:\n",
    "\n",
    "$P_d = f(d) = \\frac{n!}{d!(n-d)!} \\cdot{p^d}\\cdot{(1-p)}^{(n-d)}$ "
   ]
  },
  {
   "cell_type": "markdown",
   "metadata": {},
   "source": [
    "Using this formula with $n=52,\\ c=2,\\ and\\ p=0.01,0.02,…,0.12$, which means that we default believe $P_d = p$.\n",
    "\n",
    "The probability of acceptance is the probability that d, the number of defectives, is less than or equal to c, the accept number. This means that:\n",
    "\n",
    "$P_a = P(d\\le c) = \\sum_{d=0}^{c}\\frac{n!}{d!(n-d)!} \\cdot{p^d}\\cdot{(1-p)}^{(n-d)}$, then we find:"
   ]
  },
  {
   "cell_type": "code",
   "execution_count": 1,
   "metadata": {},
   "outputs": [
    {
     "data": {
      "text/html": [
       "<div>\n",
       "<style scoped>\n",
       "    .dataframe tbody tr th:only-of-type {\n",
       "        vertical-align: middle;\n",
       "    }\n",
       "\n",
       "    .dataframe tbody tr th {\n",
       "        vertical-align: top;\n",
       "    }\n",
       "\n",
       "    .dataframe thead th {\n",
       "        text-align: right;\n",
       "    }\n",
       "</style>\n",
       "<table border=\"1\" class=\"dataframe\">\n",
       "  <thead>\n",
       "    <tr style=\"text-align: right;\">\n",
       "      <th></th>\n",
       "      <th>P_a</th>\n",
       "      <th>P_d</th>\n",
       "    </tr>\n",
       "  </thead>\n",
       "  <tbody>\n",
       "    <tr>\n",
       "      <th>0</th>\n",
       "      <td>0.98470</td>\n",
       "      <td>0.01</td>\n",
       "    </tr>\n",
       "    <tr>\n",
       "      <th>1</th>\n",
       "      <td>0.91518</td>\n",
       "      <td>0.02</td>\n",
       "    </tr>\n",
       "    <tr>\n",
       "      <th>2</th>\n",
       "      <td>0.79778</td>\n",
       "      <td>0.03</td>\n",
       "    </tr>\n",
       "    <tr>\n",
       "      <th>3</th>\n",
       "      <td>0.65416</td>\n",
       "      <td>0.04</td>\n",
       "    </tr>\n",
       "    <tr>\n",
       "      <th>4</th>\n",
       "      <td>0.51260</td>\n",
       "      <td>0.05</td>\n",
       "    </tr>\n",
       "    <tr>\n",
       "      <th>5</th>\n",
       "      <td>0.38862</td>\n",
       "      <td>0.06</td>\n",
       "    </tr>\n",
       "    <tr>\n",
       "      <th>6</th>\n",
       "      <td>0.28580</td>\n",
       "      <td>0.07</td>\n",
       "    </tr>\n",
       "    <tr>\n",
       "      <th>7</th>\n",
       "      <td>0.20364</td>\n",
       "      <td>0.08</td>\n",
       "    </tr>\n",
       "    <tr>\n",
       "      <th>8</th>\n",
       "      <td>0.14170</td>\n",
       "      <td>0.09</td>\n",
       "    </tr>\n",
       "    <tr>\n",
       "      <th>9</th>\n",
       "      <td>0.09700</td>\n",
       "      <td>0.10</td>\n",
       "    </tr>\n",
       "    <tr>\n",
       "      <th>10</th>\n",
       "      <td>0.06422</td>\n",
       "      <td>0.11</td>\n",
       "    </tr>\n",
       "    <tr>\n",
       "      <th>11</th>\n",
       "      <td>0.04316</td>\n",
       "      <td>0.12</td>\n",
       "    </tr>\n",
       "  </tbody>\n",
       "</table>\n",
       "</div>"
      ],
      "text/plain": [
       "        P_a   P_d\n",
       "0   0.98470  0.01\n",
       "1   0.91518  0.02\n",
       "2   0.79778  0.03\n",
       "3   0.65416  0.04\n",
       "4   0.51260  0.05\n",
       "5   0.38862  0.06\n",
       "6   0.28580  0.07\n",
       "7   0.20364  0.08\n",
       "8   0.14170  0.09\n",
       "9   0.09700  0.10\n",
       "10  0.06422  0.11\n",
       "11  0.04316  0.12"
      ]
     },
     "execution_count": 1,
     "metadata": {},
     "output_type": "execute_result"
    }
   ],
   "source": [
    "import numpy as np\n",
    "import pandas as pd\n",
    "p_list = []\n",
    "n = 52\n",
    "c = 2\n",
    "for i in range (1,13):\n",
    "    p_list.append(i/100)\n",
    "p_d_list = []\n",
    "p_a_list = []\n",
    "for i in range (0,len(p_list)):\n",
    "    #p_d = sum(np.random.binomial(52,p_list[i],50000)==3)/50000\n",
    "    accpet = sum(np.random.binomial(n,p_list[i],50000)<=c)\n",
    "    p_a = (accpet)/50000 \n",
    "    p_a_list.append(p_a)\n",
    "   # p_a_list.append(p_a)\n",
    "p_dic = {'P_a':p_a_list,'P_d':p_list}\n",
    "df =pd.DataFrame(p_dic)\n",
    "df"
   ]
  },
  {
   "cell_type": "code",
   "execution_count": 2,
   "metadata": {},
   "outputs": [
    {
     "data": {
      "text/plain": [
       "[<matplotlib.lines.Line2D at 0x7fd9ad008be0>]"
      ]
     },
     "execution_count": 2,
     "metadata": {},
     "output_type": "execute_result"
    },
    {
     "data": {
      "image/png": "[encoded data removed]",
      "text/plain": [
       "<Figure size 432x288 with 1 Axes>"
      ]
     },
     "metadata": {
      "needs_background": "light"
     },
     "output_type": "display_data"
    }
   ],
   "source": [
    "import matplotlib.pyplot as plt \n",
    "plt.plot( p_a_list)"
   ]
  },
  {
   "cell_type": "markdown",
   "metadata": {},
   "source": [
    "We define $\\alpha$ and $\\beta$ as following:\n",
    "\n",
    "$1-\\alpha = \\sum_{d=0}^{c}\\frac{n!}{d!(n-d)!} \\cdot{p^{d}_{1}}\\cdot{(1-p_{1})}^{(n-d)}$\n",
    "\n",
    "$\\beta = \\sum_{d=0}^{c}\\frac{n!}{d!(n-d)!} \\cdot{p^{d}_{2}}\\cdot{(1-p_2)}^{(n-d)}$\n",
    "\n",
    "$p_1$ is a percent defective that is the base line requirement for the quality of the producer's product.\n",
    "\n",
    "$p_2$is a designated high defect level that would be unacceptable to the consumer."
   ]
  },
  {
   "cell_type": "code",
   "execution_count": 3,
   "metadata": {},
   "outputs": [
    {
     "data": {
      "text/html": [
       "<div>\n",
       "<style scoped>\n",
       "    .dataframe tbody tr th:only-of-type {\n",
       "        vertical-align: middle;\n",
       "    }\n",
       "\n",
       "    .dataframe tbody tr th {\n",
       "        vertical-align: top;\n",
       "    }\n",
       "\n",
       "    .dataframe thead th {\n",
       "        text-align: right;\n",
       "    }\n",
       "</style>\n",
       "<table border=\"1\" class=\"dataframe\">\n",
       "  <thead>\n",
       "    <tr style=\"text-align: right;\">\n",
       "      <th></th>\n",
       "      <th>P_a</th>\n",
       "      <th>P_d</th>\n",
       "      <th>alpha</th>\n",
       "    </tr>\n",
       "  </thead>\n",
       "  <tbody>\n",
       "    <tr>\n",
       "      <th>0</th>\n",
       "      <td>0.98470</td>\n",
       "      <td>0.01</td>\n",
       "      <td>0.01530</td>\n",
       "    </tr>\n",
       "    <tr>\n",
       "      <th>1</th>\n",
       "      <td>0.91518</td>\n",
       "      <td>0.02</td>\n",
       "      <td>0.08482</td>\n",
       "    </tr>\n",
       "    <tr>\n",
       "      <th>2</th>\n",
       "      <td>0.79778</td>\n",
       "      <td>0.03</td>\n",
       "      <td>0.20222</td>\n",
       "    </tr>\n",
       "    <tr>\n",
       "      <th>3</th>\n",
       "      <td>0.65416</td>\n",
       "      <td>0.04</td>\n",
       "      <td>0.34584</td>\n",
       "    </tr>\n",
       "    <tr>\n",
       "      <th>4</th>\n",
       "      <td>0.51260</td>\n",
       "      <td>0.05</td>\n",
       "      <td>0.48740</td>\n",
       "    </tr>\n",
       "    <tr>\n",
       "      <th>5</th>\n",
       "      <td>0.38862</td>\n",
       "      <td>0.06</td>\n",
       "      <td>0.61138</td>\n",
       "    </tr>\n",
       "    <tr>\n",
       "      <th>6</th>\n",
       "      <td>0.28580</td>\n",
       "      <td>0.07</td>\n",
       "      <td>0.71420</td>\n",
       "    </tr>\n",
       "    <tr>\n",
       "      <th>7</th>\n",
       "      <td>0.20364</td>\n",
       "      <td>0.08</td>\n",
       "      <td>0.79636</td>\n",
       "    </tr>\n",
       "    <tr>\n",
       "      <th>8</th>\n",
       "      <td>0.14170</td>\n",
       "      <td>0.09</td>\n",
       "      <td>0.85830</td>\n",
       "    </tr>\n",
       "    <tr>\n",
       "      <th>9</th>\n",
       "      <td>0.09700</td>\n",
       "      <td>0.10</td>\n",
       "      <td>0.90300</td>\n",
       "    </tr>\n",
       "    <tr>\n",
       "      <th>10</th>\n",
       "      <td>0.06422</td>\n",
       "      <td>0.11</td>\n",
       "      <td>0.93578</td>\n",
       "    </tr>\n",
       "    <tr>\n",
       "      <th>11</th>\n",
       "      <td>0.04316</td>\n",
       "      <td>0.12</td>\n",
       "      <td>0.95684</td>\n",
       "    </tr>\n",
       "  </tbody>\n",
       "</table>\n",
       "</div>"
      ],
      "text/plain": [
       "        P_a   P_d    alpha\n",
       "0   0.98470  0.01  0.01530\n",
       "1   0.91518  0.02  0.08482\n",
       "2   0.79778  0.03  0.20222\n",
       "3   0.65416  0.04  0.34584\n",
       "4   0.51260  0.05  0.48740\n",
       "5   0.38862  0.06  0.61138\n",
       "6   0.28580  0.07  0.71420\n",
       "7   0.20364  0.08  0.79636\n",
       "8   0.14170  0.09  0.85830\n",
       "9   0.09700  0.10  0.90300\n",
       "10  0.06422  0.11  0.93578\n",
       "11  0.04316  0.12  0.95684"
      ]
     },
     "execution_count": 3,
     "metadata": {},
     "output_type": "execute_result"
    }
   ],
   "source": [
    "alpha_list = []\n",
    "for i in range (0,len(p_a_list)):\n",
    "    alpha_list.append(1 - p_a_list[i])\n",
    "p_dic['alpha'] = alpha_list\n",
    "df =pd.DataFrame(p_dic)\n",
    "df"
   ]
  },
  {
   "cell_type": "markdown",
   "metadata": {},
   "source": [
    "**Average Outgoing Quality (AOQ)**"
   ]
  },
  {
   "cell_type": "markdown",
   "metadata": {},
   "source": [
    "AOQ can be understood as the defective proportion after we exclude the defective by using single sampling "
   ]
  },
  {
   "cell_type": "markdown",
   "metadata": {},
   "source": [
    "$AOQ = \\frac{p_a \\cdot p \\cdot {(N-n)}}{N}$\n",
    "\n",
    "We assume that$ N=10000,\\ n=52,\\ c=2,$"
   ]
  },
  {
   "cell_type": "code",
   "execution_count": 4,
   "metadata": {},
   "outputs": [
    {
     "data": {
      "text/html": [
       "<div>\n",
       "<style scoped>\n",
       "    .dataframe tbody tr th:only-of-type {\n",
       "        vertical-align: middle;\n",
       "    }\n",
       "\n",
       "    .dataframe tbody tr th {\n",
       "        vertical-align: top;\n",
       "    }\n",
       "\n",
       "    .dataframe thead th {\n",
       "        text-align: right;\n",
       "    }\n",
       "</style>\n",
       "<table border=\"1\" class=\"dataframe\">\n",
       "  <thead>\n",
       "    <tr style=\"text-align: right;\">\n",
       "      <th></th>\n",
       "      <th>P_a</th>\n",
       "      <th>P_d</th>\n",
       "      <th>alpha</th>\n",
       "      <th>AOQ</th>\n",
       "    </tr>\n",
       "  </thead>\n",
       "  <tbody>\n",
       "    <tr>\n",
       "      <th>0</th>\n",
       "      <td>0.98470</td>\n",
       "      <td>0.01</td>\n",
       "      <td>0.01530</td>\n",
       "      <td>0.009796</td>\n",
       "    </tr>\n",
       "    <tr>\n",
       "      <th>1</th>\n",
       "      <td>0.91518</td>\n",
       "      <td>0.02</td>\n",
       "      <td>0.08482</td>\n",
       "      <td>0.018208</td>\n",
       "    </tr>\n",
       "    <tr>\n",
       "      <th>2</th>\n",
       "      <td>0.79778</td>\n",
       "      <td>0.03</td>\n",
       "      <td>0.20222</td>\n",
       "      <td>0.023809</td>\n",
       "    </tr>\n",
       "    <tr>\n",
       "      <th>3</th>\n",
       "      <td>0.65416</td>\n",
       "      <td>0.04</td>\n",
       "      <td>0.34584</td>\n",
       "      <td>0.026030</td>\n",
       "    </tr>\n",
       "    <tr>\n",
       "      <th>4</th>\n",
       "      <td>0.51260</td>\n",
       "      <td>0.05</td>\n",
       "      <td>0.48740</td>\n",
       "      <td>0.025497</td>\n",
       "    </tr>\n",
       "    <tr>\n",
       "      <th>5</th>\n",
       "      <td>0.38862</td>\n",
       "      <td>0.06</td>\n",
       "      <td>0.61138</td>\n",
       "      <td>0.023196</td>\n",
       "    </tr>\n",
       "    <tr>\n",
       "      <th>6</th>\n",
       "      <td>0.28580</td>\n",
       "      <td>0.07</td>\n",
       "      <td>0.71420</td>\n",
       "      <td>0.019902</td>\n",
       "    </tr>\n",
       "    <tr>\n",
       "      <th>7</th>\n",
       "      <td>0.20364</td>\n",
       "      <td>0.08</td>\n",
       "      <td>0.79636</td>\n",
       "      <td>0.016206</td>\n",
       "    </tr>\n",
       "    <tr>\n",
       "      <th>8</th>\n",
       "      <td>0.14170</td>\n",
       "      <td>0.09</td>\n",
       "      <td>0.85830</td>\n",
       "      <td>0.012687</td>\n",
       "    </tr>\n",
       "    <tr>\n",
       "      <th>9</th>\n",
       "      <td>0.09700</td>\n",
       "      <td>0.10</td>\n",
       "      <td>0.90300</td>\n",
       "      <td>0.009650</td>\n",
       "    </tr>\n",
       "    <tr>\n",
       "      <th>10</th>\n",
       "      <td>0.06422</td>\n",
       "      <td>0.11</td>\n",
       "      <td>0.93578</td>\n",
       "      <td>0.007027</td>\n",
       "    </tr>\n",
       "    <tr>\n",
       "      <th>11</th>\n",
       "      <td>0.04316</td>\n",
       "      <td>0.12</td>\n",
       "      <td>0.95684</td>\n",
       "      <td>0.005152</td>\n",
       "    </tr>\n",
       "  </tbody>\n",
       "</table>\n",
       "</div>"
      ],
      "text/plain": [
       "        P_a   P_d    alpha       AOQ\n",
       "0   0.98470  0.01  0.01530  0.009796\n",
       "1   0.91518  0.02  0.08482  0.018208\n",
       "2   0.79778  0.03  0.20222  0.023809\n",
       "3   0.65416  0.04  0.34584  0.026030\n",
       "4   0.51260  0.05  0.48740  0.025497\n",
       "5   0.38862  0.06  0.61138  0.023196\n",
       "6   0.28580  0.07  0.71420  0.019902\n",
       "7   0.20364  0.08  0.79636  0.016206\n",
       "8   0.14170  0.09  0.85830  0.012687\n",
       "9   0.09700  0.10  0.90300  0.009650\n",
       "10  0.06422  0.11  0.93578  0.007027\n",
       "11  0.04316  0.12  0.95684  0.005152"
      ]
     },
     "execution_count": 4,
     "metadata": {},
     "output_type": "execute_result"
    }
   ],
   "source": [
    "aoq_list = []\n",
    "N = 10000\n",
    "for i in range (0,len(p_a_list)):\n",
    "    aoq = (p_a_list[i]*p_list[i]*(N-n))/N\n",
    "    aoq_list.append(aoq)\n",
    "p_dic['AOQ'] = aoq_list\n",
    "df =pd.DataFrame(p_dic)\n",
    "df"
   ]
  },
  {
   "cell_type": "code",
   "execution_count": 5,
   "metadata": {},
   "outputs": [
    {
     "data": {
      "text/plain": [
       "[<matplotlib.lines.Line2D at 0x7fd9aaefa4c0>]"
      ]
     },
     "execution_count": 5,
     "metadata": {},
     "output_type": "execute_result"
    },
    {
     "data": {
      "image/png": "[encoded data removed]",
      "text/plain": [
       "<Figure size 432x288 with 1 Axes>"
      ]
     },
     "metadata": {
      "needs_background": "light"
     },
     "output_type": "display_data"
    }
   ],
   "source": [
    "plt.plot( p_list, aoq_list)"
   ]
  },
  {
   "cell_type": "markdown",
   "metadata": {},
   "source": [
    "Our conclusion is that when $N \\gg n$, then we can find that $AOQ \\approx P_a \\cdot p$"
   ]
  },
  {
   "cell_type": "markdown",
   "metadata": {},
   "source": [
    "**The Average Total Inspection (ATI)**"
   ]
  },
  {
   "cell_type": "markdown",
   "metadata": {},
   "source": [
    "What is the total amount of inspection when rejected lots are screened?"
   ]
  },
  {
   "cell_type": "markdown",
   "metadata": {},
   "source": [
    "$ATI = n + (1-P_a)(N-n)$"
   ]
  },
  {
   "cell_type": "code",
   "execution_count": 6,
   "metadata": {},
   "outputs": [
    {
     "data": {
      "text/html": [
       "<div>\n",
       "<style scoped>\n",
       "    .dataframe tbody tr th:only-of-type {\n",
       "        vertical-align: middle;\n",
       "    }\n",
       "\n",
       "    .dataframe tbody tr th {\n",
       "        vertical-align: top;\n",
       "    }\n",
       "\n",
       "    .dataframe thead th {\n",
       "        text-align: right;\n",
       "    }\n",
       "</style>\n",
       "<table border=\"1\" class=\"dataframe\">\n",
       "  <thead>\n",
       "    <tr style=\"text-align: right;\">\n",
       "      <th></th>\n",
       "      <th>P_a</th>\n",
       "      <th>P_d</th>\n",
       "      <th>alpha</th>\n",
       "      <th>AOQ</th>\n",
       "      <th>ATI</th>\n",
       "    </tr>\n",
       "  </thead>\n",
       "  <tbody>\n",
       "    <tr>\n",
       "      <th>0</th>\n",
       "      <td>0.98470</td>\n",
       "      <td>0.01</td>\n",
       "      <td>0.01530</td>\n",
       "      <td>0.009796</td>\n",
       "      <td>204.20440</td>\n",
       "    </tr>\n",
       "    <tr>\n",
       "      <th>1</th>\n",
       "      <td>0.91518</td>\n",
       "      <td>0.02</td>\n",
       "      <td>0.08482</td>\n",
       "      <td>0.018208</td>\n",
       "      <td>895.78936</td>\n",
       "    </tr>\n",
       "    <tr>\n",
       "      <th>2</th>\n",
       "      <td>0.79778</td>\n",
       "      <td>0.03</td>\n",
       "      <td>0.20222</td>\n",
       "      <td>0.023809</td>\n",
       "      <td>2063.68456</td>\n",
       "    </tr>\n",
       "    <tr>\n",
       "      <th>3</th>\n",
       "      <td>0.65416</td>\n",
       "      <td>0.04</td>\n",
       "      <td>0.34584</td>\n",
       "      <td>0.026030</td>\n",
       "      <td>3492.41632</td>\n",
       "    </tr>\n",
       "    <tr>\n",
       "      <th>4</th>\n",
       "      <td>0.51260</td>\n",
       "      <td>0.05</td>\n",
       "      <td>0.48740</td>\n",
       "      <td>0.025497</td>\n",
       "      <td>4900.65520</td>\n",
       "    </tr>\n",
       "    <tr>\n",
       "      <th>5</th>\n",
       "      <td>0.38862</td>\n",
       "      <td>0.06</td>\n",
       "      <td>0.61138</td>\n",
       "      <td>0.023196</td>\n",
       "      <td>6134.00824</td>\n",
       "    </tr>\n",
       "    <tr>\n",
       "      <th>6</th>\n",
       "      <td>0.28580</td>\n",
       "      <td>0.07</td>\n",
       "      <td>0.71420</td>\n",
       "      <td>0.019902</td>\n",
       "      <td>7156.86160</td>\n",
       "    </tr>\n",
       "    <tr>\n",
       "      <th>7</th>\n",
       "      <td>0.20364</td>\n",
       "      <td>0.08</td>\n",
       "      <td>0.79636</td>\n",
       "      <td>0.016206</td>\n",
       "      <td>7974.18928</td>\n",
       "    </tr>\n",
       "    <tr>\n",
       "      <th>8</th>\n",
       "      <td>0.14170</td>\n",
       "      <td>0.09</td>\n",
       "      <td>0.85830</td>\n",
       "      <td>0.012687</td>\n",
       "      <td>8590.36840</td>\n",
       "    </tr>\n",
       "    <tr>\n",
       "      <th>9</th>\n",
       "      <td>0.09700</td>\n",
       "      <td>0.10</td>\n",
       "      <td>0.90300</td>\n",
       "      <td>0.009650</td>\n",
       "      <td>9035.04400</td>\n",
       "    </tr>\n",
       "    <tr>\n",
       "      <th>10</th>\n",
       "      <td>0.06422</td>\n",
       "      <td>0.11</td>\n",
       "      <td>0.93578</td>\n",
       "      <td>0.007027</td>\n",
       "      <td>9361.13944</td>\n",
       "    </tr>\n",
       "    <tr>\n",
       "      <th>11</th>\n",
       "      <td>0.04316</td>\n",
       "      <td>0.12</td>\n",
       "      <td>0.95684</td>\n",
       "      <td>0.005152</td>\n",
       "      <td>9570.64432</td>\n",
       "    </tr>\n",
       "  </tbody>\n",
       "</table>\n",
       "</div>"
      ],
      "text/plain": [
       "        P_a   P_d    alpha       AOQ         ATI\n",
       "0   0.98470  0.01  0.01530  0.009796   204.20440\n",
       "1   0.91518  0.02  0.08482  0.018208   895.78936\n",
       "2   0.79778  0.03  0.20222  0.023809  2063.68456\n",
       "3   0.65416  0.04  0.34584  0.026030  3492.41632\n",
       "4   0.51260  0.05  0.48740  0.025497  4900.65520\n",
       "5   0.38862  0.06  0.61138  0.023196  6134.00824\n",
       "6   0.28580  0.07  0.71420  0.019902  7156.86160\n",
       "7   0.20364  0.08  0.79636  0.016206  7974.18928\n",
       "8   0.14170  0.09  0.85830  0.012687  8590.36840\n",
       "9   0.09700  0.10  0.90300  0.009650  9035.04400\n",
       "10  0.06422  0.11  0.93578  0.007027  9361.13944\n",
       "11  0.04316  0.12  0.95684  0.005152  9570.64432"
      ]
     },
     "execution_count": 6,
     "metadata": {},
     "output_type": "execute_result"
    }
   ],
   "source": [
    "ati_list = []\n",
    "for i in range (0,len(p_a_list)):\n",
    "    ati = 52 + ((1 -p_a_list[i])*(10000-52))\n",
    "    ati_list.append(ati)\n",
    "p_dic['ATI'] = ati_list\n",
    "df =pd.DataFrame(p_dic)\n",
    "df"
   ]
  },
  {
   "cell_type": "code",
   "execution_count": 7,
   "metadata": {},
   "outputs": [
    {
     "data": {
      "text/plain": [
       "[<matplotlib.lines.Line2D at 0x7fd9aaed0f10>]"
      ]
     },
     "execution_count": 7,
     "metadata": {},
     "output_type": "execute_result"
    },
    {
     "data": {
      "image/png": "[encoded data removed]",
      "text/plain": [
       "<Figure size 432x288 with 1 Axes>"
      ]
     },
     "metadata": {
      "needs_background": "light"
     },
     "output_type": "display_data"
    }
   ],
   "source": [
    "plt.plot( p_list, ati_list)"
   ]
  },
  {
   "cell_type": "markdown",
   "metadata": {},
   "source": [
    "## Double Sample test"
   ]
  },
  {
   "cell_type": "markdown",
   "metadata": {},
   "source": [
    "The number of defectives is then counted and compared to the first sample's acceptance number $a_1$ and rejection number is $r_1$. Denote the number of defectives in sample 1 by $d_1$.\n",
    "\n",
    "The number of defectives is then counted and compared to the second sample's acceptance number $a_2$ and rejection number is $r_2$. Denote the number of defectives in sample 2 by $d_2$. $r_2 = a_2 + 1$"
   ]
  },
  {
   "cell_type": "markdown",
   "metadata": {},
   "source": [
    "If $d_1 \\le a_1$, the lot is accepted.\n",
    "\n",
    "If $d_1 \\ge r_1$, the lot is rejected.\n",
    "\n",
    "If $a_1<d_1<r_1$, a second sample is taken."
   ]
  },
  {
   "cell_type": "markdown",
   "metadata": {},
   "source": [
    "If a second sample of size $n_2$ is taken, the number of defectives, $d_2$, is counted."
   ]
  },
  {
   "cell_type": "markdown",
   "metadata": {},
   "source": [
    "The total number of defectives is $D_2 = d_1 + d_2$"
   ]
  },
  {
   "cell_type": "markdown",
   "metadata": {},
   "source": [
    "If $D2 \\le a2$, the lot is accepted.\n",
    "If $D2\\ge r2$, the lot is rejected."
   ]
  },
  {
   "cell_type": "markdown",
   "metadata": {},
   "source": [
    "### For example ###\n",
    "\n",
    "$n_1 = 50, n_2 = 100,\\frac{c_2}{c_1} = 2,  c_1 =2 $\n",
    "\n",
    "$p_1 = 0.01, p_2 = 0.05, \\beta = 0.10$\n",
    "\n",
    "**Then the probability of acceptance on the first sample, which is the chance of getting two or less defectives, refers to $P_1$.**"
   ]
  },
  {
   "cell_type": "markdown",
   "metadata": {},
   "source": [
    "We define the Average Sample Number (ASN)to denote the sample number for double sample test."
   ]
  },
  {
   "cell_type": "code",
   "execution_count": 8,
   "metadata": {},
   "outputs": [
    {
     "data": {
      "text/html": [
       "<div>\n",
       "<style scoped>\n",
       "    .dataframe tbody tr th:only-of-type {\n",
       "        vertical-align: middle;\n",
       "    }\n",
       "\n",
       "    .dataframe tbody tr th {\n",
       "        vertical-align: top;\n",
       "    }\n",
       "\n",
       "    .dataframe thead th {\n",
       "        text-align: right;\n",
       "    }\n",
       "</style>\n",
       "<table border=\"1\" class=\"dataframe\">\n",
       "  <thead>\n",
       "    <tr style=\"text-align: right;\">\n",
       "      <th></th>\n",
       "      <th>Sample 1 accept</th>\n",
       "      <th>Sample 2 decline</th>\n",
       "      <th>Defective probability for 1</th>\n",
       "      <th>Defective probability for 2</th>\n",
       "    </tr>\n",
       "  </thead>\n",
       "  <tbody>\n",
       "    <tr>\n",
       "      <th>0</th>\n",
       "      <td>0.98572</td>\n",
       "      <td>0.99972</td>\n",
       "      <td>0.01</td>\n",
       "      <td>0.0125</td>\n",
       "    </tr>\n",
       "    <tr>\n",
       "      <th>1</th>\n",
       "      <td>0.92084</td>\n",
       "      <td>0.98798</td>\n",
       "      <td>0.02</td>\n",
       "      <td>0.0250</td>\n",
       "    </tr>\n",
       "    <tr>\n",
       "      <th>2</th>\n",
       "      <td>0.81106</td>\n",
       "      <td>0.91870</td>\n",
       "      <td>0.03</td>\n",
       "      <td>0.0375</td>\n",
       "    </tr>\n",
       "    <tr>\n",
       "      <th>3</th>\n",
       "      <td>0.67904</td>\n",
       "      <td>0.76820</td>\n",
       "      <td>0.04</td>\n",
       "      <td>0.0500</td>\n",
       "    </tr>\n",
       "    <tr>\n",
       "      <th>4</th>\n",
       "      <td>0.54122</td>\n",
       "      <td>0.56100</td>\n",
       "      <td>0.05</td>\n",
       "      <td>0.0625</td>\n",
       "    </tr>\n",
       "    <tr>\n",
       "      <th>5</th>\n",
       "      <td>0.41790</td>\n",
       "      <td>0.36872</td>\n",
       "      <td>0.06</td>\n",
       "      <td>0.0750</td>\n",
       "    </tr>\n",
       "    <tr>\n",
       "      <th>6</th>\n",
       "      <td>0.30722</td>\n",
       "      <td>0.21564</td>\n",
       "      <td>0.07</td>\n",
       "      <td>0.0875</td>\n",
       "    </tr>\n",
       "    <tr>\n",
       "      <th>7</th>\n",
       "      <td>0.22638</td>\n",
       "      <td>0.11686</td>\n",
       "      <td>0.08</td>\n",
       "      <td>0.1000</td>\n",
       "    </tr>\n",
       "    <tr>\n",
       "      <th>8</th>\n",
       "      <td>0.15986</td>\n",
       "      <td>0.05742</td>\n",
       "      <td>0.09</td>\n",
       "      <td>0.1125</td>\n",
       "    </tr>\n",
       "    <tr>\n",
       "      <th>9</th>\n",
       "      <td>0.11098</td>\n",
       "      <td>0.02656</td>\n",
       "      <td>0.10</td>\n",
       "      <td>0.1250</td>\n",
       "    </tr>\n",
       "    <tr>\n",
       "      <th>10</th>\n",
       "      <td>0.07570</td>\n",
       "      <td>0.01178</td>\n",
       "      <td>0.11</td>\n",
       "      <td>0.1375</td>\n",
       "    </tr>\n",
       "    <tr>\n",
       "      <th>11</th>\n",
       "      <td>0.05280</td>\n",
       "      <td>0.00486</td>\n",
       "      <td>0.12</td>\n",
       "      <td>0.1500</td>\n",
       "    </tr>\n",
       "  </tbody>\n",
       "</table>\n",
       "</div>"
      ],
      "text/plain": [
       "    Sample 1 accept  Sample 2 decline  Defective probability for 1  \\\n",
       "0           0.98572           0.99972                         0.01   \n",
       "1           0.92084           0.98798                         0.02   \n",
       "2           0.81106           0.91870                         0.03   \n",
       "3           0.67904           0.76820                         0.04   \n",
       "4           0.54122           0.56100                         0.05   \n",
       "5           0.41790           0.36872                         0.06   \n",
       "6           0.30722           0.21564                         0.07   \n",
       "7           0.22638           0.11686                         0.08   \n",
       "8           0.15986           0.05742                         0.09   \n",
       "9           0.11098           0.02656                         0.10   \n",
       "10          0.07570           0.01178                         0.11   \n",
       "11          0.05280           0.00486                         0.12   \n",
       "\n",
       "    Defective probability for 2  \n",
       "0                        0.0125  \n",
       "1                        0.0250  \n",
       "2                        0.0375  \n",
       "3                        0.0500  \n",
       "4                        0.0625  \n",
       "5                        0.0750  \n",
       "6                        0.0875  \n",
       "7                        0.1000  \n",
       "8                        0.1125  \n",
       "9                        0.1250  \n",
       "10                       0.1375  \n",
       "11                       0.1500  "
      ]
     },
     "execution_count": 8,
     "metadata": {},
     "output_type": "execute_result"
    }
   ],
   "source": [
    "n_1 = 50\n",
    "n_2 = 100\n",
    "c_1 = 2\n",
    "c_2 = 6\n",
    "p_list_a = []\n",
    "p_list_b = []\n",
    "for i in range (1,13):\n",
    "    p_list_a.append(i/100)\n",
    "    p_list_b.append(i/80)\n",
    "p_d_list = []\n",
    "p_a_list = []\n",
    "for i in range (0,len(p_list)):\n",
    "    #p_d = sum(np.random.binomial(52,p_list[i],50000)==3)/50000\n",
    "    accpet_sample_def =sum(np.random.binomial(n_1,p_list_a[i],50000)<=c_1)\n",
    "    p_a_1 = accpet_sample_def/50000 \n",
    "    p_a_list.append(p_a_1)\n",
    "   # p_a_list.append(p_a)\n",
    "    decline_sample_2 =sum(np.random.binomial(n_2,p_list_b[i],50000)>c_2)\n",
    "    p_d_list.append(1- decline_sample_2/50000) \n",
    "p_dic = {'Sample 1 accept':p_a_list,'Sample 2 decline':p_d_list,'Defective probability for 1':p_list_a,'Defective probability for 2':p_list_b}\n",
    "df =pd.DataFrame(p_dic)\n",
    "df"
   ]
  },
  {
   "cell_type": "code",
   "execution_count": 9,
   "metadata": {},
   "outputs": [
    {
     "data": {
      "text/html": [
       "<div>\n",
       "<style scoped>\n",
       "    .dataframe tbody tr th:only-of-type {\n",
       "        vertical-align: middle;\n",
       "    }\n",
       "\n",
       "    .dataframe tbody tr th {\n",
       "        vertical-align: top;\n",
       "    }\n",
       "\n",
       "    .dataframe thead th {\n",
       "        text-align: right;\n",
       "    }\n",
       "</style>\n",
       "<table border=\"1\" class=\"dataframe\">\n",
       "  <thead>\n",
       "    <tr style=\"text-align: right;\">\n",
       "      <th></th>\n",
       "      <th>Sample 1 accept</th>\n",
       "      <th>Sample 2 decline</th>\n",
       "      <th>Defective probability for 1</th>\n",
       "      <th>Defective probability for 2</th>\n",
       "      <th>ASN</th>\n",
       "    </tr>\n",
       "  </thead>\n",
       "  <tbody>\n",
       "    <tr>\n",
       "      <th>0</th>\n",
       "      <td>0.98572</td>\n",
       "      <td>0.99972</td>\n",
       "      <td>0.01</td>\n",
       "      <td>0.0125</td>\n",
       "      <td>51.428</td>\n",
       "    </tr>\n",
       "    <tr>\n",
       "      <th>1</th>\n",
       "      <td>0.92084</td>\n",
       "      <td>0.98798</td>\n",
       "      <td>0.02</td>\n",
       "      <td>0.0250</td>\n",
       "      <td>57.916</td>\n",
       "    </tr>\n",
       "    <tr>\n",
       "      <th>2</th>\n",
       "      <td>0.81106</td>\n",
       "      <td>0.91870</td>\n",
       "      <td>0.03</td>\n",
       "      <td>0.0375</td>\n",
       "      <td>68.894</td>\n",
       "    </tr>\n",
       "    <tr>\n",
       "      <th>3</th>\n",
       "      <td>0.67904</td>\n",
       "      <td>0.76820</td>\n",
       "      <td>0.04</td>\n",
       "      <td>0.0500</td>\n",
       "      <td>82.096</td>\n",
       "    </tr>\n",
       "    <tr>\n",
       "      <th>4</th>\n",
       "      <td>0.54122</td>\n",
       "      <td>0.56100</td>\n",
       "      <td>0.05</td>\n",
       "      <td>0.0625</td>\n",
       "      <td>95.878</td>\n",
       "    </tr>\n",
       "    <tr>\n",
       "      <th>5</th>\n",
       "      <td>0.41790</td>\n",
       "      <td>0.36872</td>\n",
       "      <td>0.06</td>\n",
       "      <td>0.0750</td>\n",
       "      <td>108.210</td>\n",
       "    </tr>\n",
       "    <tr>\n",
       "      <th>6</th>\n",
       "      <td>0.30722</td>\n",
       "      <td>0.21564</td>\n",
       "      <td>0.07</td>\n",
       "      <td>0.0875</td>\n",
       "      <td>119.278</td>\n",
       "    </tr>\n",
       "    <tr>\n",
       "      <th>7</th>\n",
       "      <td>0.22638</td>\n",
       "      <td>0.11686</td>\n",
       "      <td>0.08</td>\n",
       "      <td>0.1000</td>\n",
       "      <td>127.362</td>\n",
       "    </tr>\n",
       "    <tr>\n",
       "      <th>8</th>\n",
       "      <td>0.15986</td>\n",
       "      <td>0.05742</td>\n",
       "      <td>0.09</td>\n",
       "      <td>0.1125</td>\n",
       "      <td>134.014</td>\n",
       "    </tr>\n",
       "    <tr>\n",
       "      <th>9</th>\n",
       "      <td>0.11098</td>\n",
       "      <td>0.02656</td>\n",
       "      <td>0.10</td>\n",
       "      <td>0.1250</td>\n",
       "      <td>138.902</td>\n",
       "    </tr>\n",
       "    <tr>\n",
       "      <th>10</th>\n",
       "      <td>0.07570</td>\n",
       "      <td>0.01178</td>\n",
       "      <td>0.11</td>\n",
       "      <td>0.1375</td>\n",
       "      <td>142.430</td>\n",
       "    </tr>\n",
       "    <tr>\n",
       "      <th>11</th>\n",
       "      <td>0.05280</td>\n",
       "      <td>0.00486</td>\n",
       "      <td>0.12</td>\n",
       "      <td>0.1500</td>\n",
       "      <td>144.720</td>\n",
       "    </tr>\n",
       "  </tbody>\n",
       "</table>\n",
       "</div>"
      ],
      "text/plain": [
       "    Sample 1 accept  Sample 2 decline  Defective probability for 1  \\\n",
       "0           0.98572           0.99972                         0.01   \n",
       "1           0.92084           0.98798                         0.02   \n",
       "2           0.81106           0.91870                         0.03   \n",
       "3           0.67904           0.76820                         0.04   \n",
       "4           0.54122           0.56100                         0.05   \n",
       "5           0.41790           0.36872                         0.06   \n",
       "6           0.30722           0.21564                         0.07   \n",
       "7           0.22638           0.11686                         0.08   \n",
       "8           0.15986           0.05742                         0.09   \n",
       "9           0.11098           0.02656                         0.10   \n",
       "10          0.07570           0.01178                         0.11   \n",
       "11          0.05280           0.00486                         0.12   \n",
       "\n",
       "    Defective probability for 2      ASN  \n",
       "0                        0.0125   51.428  \n",
       "1                        0.0250   57.916  \n",
       "2                        0.0375   68.894  \n",
       "3                        0.0500   82.096  \n",
       "4                        0.0625   95.878  \n",
       "5                        0.0750  108.210  \n",
       "6                        0.0875  119.278  \n",
       "7                        0.1000  127.362  \n",
       "8                        0.1125  134.014  \n",
       "9                        0.1250  138.902  \n",
       "10                       0.1375  142.430  \n",
       "11                       0.1500  144.720  "
      ]
     },
     "execution_count": 9,
     "metadata": {},
     "output_type": "execute_result"
    },
    {
     "data": {
      "image/png": "[encoded data removed]",
      "text/plain": [
       "<Figure size 432x288 with 1 Axes>"
      ]
     },
     "metadata": {
      "needs_background": "light"
     },
     "output_type": "display_data"
    }
   ],
   "source": [
    "asn_list = []\n",
    "for i in range (0,len(p_a_list)):\n",
    "    asn_list.append((1 - p_a_list[i]) * n_2 + n_1)\n",
    "p_dic['ASN'] = asn_list\n",
    "df =pd.DataFrame(p_dic)\n",
    "plt.plot(p_list, asn_list)\n",
    "df"
   ]
  },
  {
   "cell_type": "markdown",
   "metadata": {},
   "source": [
    "## Sequential Sampling Plan (SSSTP)"
   ]
  },
  {
   "cell_type": "markdown",
   "metadata": {},
   "source": [
    "Sequential sampling is different from single, double or multiple sampling. Here one takes a sequence of samples from a lot. How many total samples looked at is a function of the results of the sampling process."
   ]
  },
  {
   "cell_type": "markdown",
   "metadata": {},
   "source": [
    "**An example:**\n",
    "\n",
    "We assume that $p_1 = 0.01, p_2 = 0.1, \\alpha = 0.05,\\ and \\ \\beta = 0.1$"
   ]
  },
  {
   "cell_type": "markdown",
   "metadata": {},
   "source": [
    "$x_a = -h_1 + s\\cdot{n}$\n",
    "\n",
    "$x_r = h_2 + s\\cdot{n}$\n",
    "\n",
    "$ k = \\log \\left[{\\frac{p_{2}\\cdot{(1-p_1)}}{p_1\\cdot{(1-p_2)}}} \\right]$\n",
    "\n",
    "$h_1 = \\frac{1}{k} \\left[log{(\\frac{1-\\alpha}{\\beta})} \\right]$\n",
    "\n",
    "$h_2 = \\frac{1}{k} \\left[log{(\\frac{1-\\beta}{\\alpha})} \\right]$\n",
    "\n",
    "$s = \\frac{1}{k} \\left[ {log{(\\frac{1-p_1}{1-p_2})}} \\right]$"
   ]
  },
  {
   "cell_type": "code",
   "execution_count": 14,
   "metadata": {},
   "outputs": [
    {
     "data": {
      "text/plain": [
       "Text(0.5, 0, 'Inspect number')"
      ]
     },
     "execution_count": 14,
     "metadata": {},
     "output_type": "execute_result"
    },
    {
     "data": {
      "image/png": "[encoded data removed]",
      "text/plain": [
       "<Figure size 432x288 with 1 Axes>"
      ]
     },
     "metadata": {
      "needs_background": "light"
     },
     "output_type": "display_data"
    }
   ],
   "source": [
    "import math\n",
    "def k(p_1,p_2):\n",
    "    return math.log10((p_2*(1-p_1)/(p_1*(1-p_2))))\n",
    "def s(p_1,p_2):\n",
    "    k_value = k(p_1,p_2)\n",
    "    s = (1/k_value)*math.log10((1-p_1)/(1-p_2))\n",
    "    return s\n",
    "def x_a(alpha,beta,n,p_1,p_2):\n",
    "     k_value = k(p_1,p_2)\n",
    "     s_value = s(p_1,p_2)\n",
    "     x_a = (-(1/k_value)*math.log10((1-alpha)/beta) + s_value*n)\n",
    "     return x_a\n",
    "def x_r(alpha,beta,n,p_1,p_2):\n",
    "     k_value = k(p_1,p_2)\n",
    "     s_value = s(p_1,p_2)\n",
    "     x_r = ((1/k_value)*math.log10((1-beta)/alpha) + s_value*n)\n",
    "     return x_r\n",
    "x_r_list = []\n",
    "x_a_list = []\n",
    "sample_size_list = []\n",
    "\n",
    "for i in range (0,500,5):\n",
    "    sample_size_list.append(i)\n",
    "    x_r_list.append(x_r(0.05,0.1,i,0.01,0.1))\n",
    "    x_a_list.append(x_a(0.05,0.1,i,0.01,0.1))\n",
    "plt.plot(sample_size_list,x_r_list)\n",
    "plt.plot(sample_size_list,x_a_list)\n",
    "plt.text(25,6,\"Reject area\")\n",
    "plt.text(150,2,\"Accept area\")\n",
    "plt.ylim(0,10)\n",
    "plt.xlim(0,200)\n",
    "plt.ylabel(\"Reject number\")\n",
    "plt.xlabel(\"Inspect number\")"
   ]
  },
  {
   "cell_type": "code",
   "execution_count": null,
   "metadata": {
    "scrolled": true
   },
   "outputs": [],
   "source": [
    "ssstp_dic ={'Accept threshold':x_a_list,'Reject threshold': x_r_list, 'Inspect amount': sample_size_list }\n",
    "df = pd.DataFrame(ssstp_dic)\n",
    "df"
   ]
  },
  {
   "cell_type": "markdown",
   "metadata": {},
   "source": [
    "## Sequential Probability Ratio Test (SPRT)"
   ]
  },
  {
   "cell_type": "markdown",
   "metadata": {},
   "source": [
    "$\\log{\\Lambda_{m}} = x_m \\log \\frac{p_1}{p_0} + (1-x_m) \\log{\\frac{1-p_1}{1-p_0}}$\n",
    "\n",
    "$\\log{\\Lambda_{m}} = -\\log{(\\frac{\\theta_{1}}{\\theta_{0}}) + {\\frac{\\theta_{1} -\\theta_{0}}{\\theta_{1} \\theta_{0}}x_m}}$\n",
    "\n",
    "**Which one is corrent?**\n",
    "[The formula](https://en.wikipedia.org/wiki/Sequential_probability_ratio_test)"
   ]
  }
 ],
 "metadata": {
  "kernelspec": {
   "display_name": "Python 3",
   "language": "python",
   "name": "python3"
  },
  "language_info": {
   "codemirror_mode": {
    "name": "ipython",
    "version": 3
   },
   "file_extension": ".py",
   "mimetype": "text/x-python",
   "name": "python",
   "nbconvert_exporter": "python",
   "pygments_lexer": "ipython3",
   "version": "3.8.5"
  }
 },
 "nbformat": 4,
 "nbformat_minor": 4
}
