{
 "cells": [
  {
   "cell_type": "markdown",
   "metadata": {},
   "source": [
    "# This notebook is made for the sampling problems"
   ]
  },
  {
   "cell_type": "markdown",
   "metadata": {},
   "source": [
    "Here is the link: [Handbook for hypothesis test](https://www.itl.nist.gov/div898/handbook/pmc/section2/pmc24.htm)"
   ]
  },
  {
   "cell_type": "markdown",
   "metadata": {},
   "source": [
    "## Single Sample hypothesis test"
   ]
  },
  {
   "cell_type": "markdown",
   "metadata": {},
   "source": [
    " **Choosing a Sampling Plan with a given OC Curve**"
   ]
  },
  {
   "cell_type": "markdown",
   "metadata": {},
   "source": [
    "The probability of observing exactly d defectives is given by:\n",
    "\n",
    "$P_d = f(d) = \\frac{n!}{d!(n-d)!} \\cdot{p^d}\\cdot{(1-p)}^{(n-d)}$ "
   ]
  },
  {
   "cell_type": "markdown",
   "metadata": {},
   "source": [
    "Using this formula with $n=52,\\ c=2,\\ and\\ p=0.01,0.02,…,0.12$, which means that we default believe $P_d = p$.\n",
    "\n",
    "The probability of acceptance is the probability that d, the number of defectives, is less than or equal to c, the accept number. This means that:\n",
    "\n",
    "$P_a = P(d\\le c) = \\sum_{d=0}^{c}\\frac{n!}{d!(n-d)!} \\cdot{p^d}\\cdot{(1-p)}^{(n-d)}$, then we find:"
   ]
  },
  {
   "cell_type": "code",
   "execution_count": 25,
   "metadata": {},
   "outputs": [
    {
     "data": {
      "text/html": [
       "<div>\n",
       "<style scoped>\n",
       "    .dataframe tbody tr th:only-of-type {\n",
       "        vertical-align: middle;\n",
       "    }\n",
       "\n",
       "    .dataframe tbody tr th {\n",
       "        vertical-align: top;\n",
       "    }\n",
       "\n",
       "    .dataframe thead th {\n",
       "        text-align: right;\n",
       "    }\n",
       "</style>\n",
       "<table border=\"1\" class=\"dataframe\">\n",
       "  <thead>\n",
       "    <tr style=\"text-align: right;\">\n",
       "      <th></th>\n",
       "      <th>P_a</th>\n",
       "      <th>P_d</th>\n",
       "    </tr>\n",
       "  </thead>\n",
       "  <tbody>\n",
       "    <tr>\n",
       "      <th>0</th>\n",
       "      <td>0.98458</td>\n",
       "      <td>0.01</td>\n",
       "    </tr>\n",
       "    <tr>\n",
       "      <th>1</th>\n",
       "      <td>0.91560</td>\n",
       "      <td>0.02</td>\n",
       "    </tr>\n",
       "    <tr>\n",
       "      <th>2</th>\n",
       "      <td>0.79660</td>\n",
       "      <td>0.03</td>\n",
       "    </tr>\n",
       "    <tr>\n",
       "      <th>3</th>\n",
       "      <td>0.65344</td>\n",
       "      <td>0.04</td>\n",
       "    </tr>\n",
       "    <tr>\n",
       "      <th>4</th>\n",
       "      <td>0.51624</td>\n",
       "      <td>0.05</td>\n",
       "    </tr>\n",
       "    <tr>\n",
       "      <th>5</th>\n",
       "      <td>0.38966</td>\n",
       "      <td>0.06</td>\n",
       "    </tr>\n",
       "    <tr>\n",
       "      <th>6</th>\n",
       "      <td>0.28256</td>\n",
       "      <td>0.07</td>\n",
       "    </tr>\n",
       "    <tr>\n",
       "      <th>7</th>\n",
       "      <td>0.20206</td>\n",
       "      <td>0.08</td>\n",
       "    </tr>\n",
       "    <tr>\n",
       "      <th>8</th>\n",
       "      <td>0.14312</td>\n",
       "      <td>0.09</td>\n",
       "    </tr>\n",
       "    <tr>\n",
       "      <th>9</th>\n",
       "      <td>0.09838</td>\n",
       "      <td>0.10</td>\n",
       "    </tr>\n",
       "    <tr>\n",
       "      <th>10</th>\n",
       "      <td>0.06358</td>\n",
       "      <td>0.11</td>\n",
       "    </tr>\n",
       "    <tr>\n",
       "      <th>11</th>\n",
       "      <td>0.04172</td>\n",
       "      <td>0.12</td>\n",
       "    </tr>\n",
       "  </tbody>\n",
       "</table>\n",
       "</div>"
      ],
      "text/plain": [
       "        P_a   P_d\n",
       "0   0.98458  0.01\n",
       "1   0.91560  0.02\n",
       "2   0.79660  0.03\n",
       "3   0.65344  0.04\n",
       "4   0.51624  0.05\n",
       "5   0.38966  0.06\n",
       "6   0.28256  0.07\n",
       "7   0.20206  0.08\n",
       "8   0.14312  0.09\n",
       "9   0.09838  0.10\n",
       "10  0.06358  0.11\n",
       "11  0.04172  0.12"
      ]
     },
     "execution_count": 25,
     "metadata": {},
     "output_type": "execute_result"
    }
   ],
   "source": [
    "import numpy as np\n",
    "import pandas as pd\n",
    "p_list = []\n",
    "n = 52\n",
    "c = 2\n",
    "for i in range (1,13):\n",
    "    p_list.append(i/100)\n",
    "p_d_list = []\n",
    "p_a_list = []\n",
    "for i in range (0,len(p_list)):\n",
    "    #p_d = sum(np.random.binomial(52,p_list[i],50000)==3)/50000\n",
    "    accpet = sum(np.random.binomial(n,p_list[i],50000)<=c)\n",
    "    p_a = (accpet)/50000 \n",
    "    p_a_list.append(p_a)\n",
    "   # p_a_list.append(p_a)\n",
    "p_dic = {'P_a':p_a_list,'P_d':p_list}\n",
    "df =pd.DataFrame(p_dic)\n",
    "df"
   ]
  },
  {
   "cell_type": "code",
   "execution_count": 4,
   "metadata": {},
   "outputs": [
    {
     "data": {
      "text/plain": [
       "[<matplotlib.lines.Line2D at 0x7f40249f0ca0>]"
      ]
     },
     "execution_count": 4,
     "metadata": {},
     "output_type": "execute_result"
    },
    {
     "data": {
      "image/png": "[encoded data removed]",
      "text/plain": [
       "<Figure size 432x288 with 1 Axes>"
      ]
     },
     "metadata": {
      "needs_background": "light"
     },
     "output_type": "display_data"
    }
   ],
   "source": [
    "import matplotlib.pyplot as plt \n",
    "plt.plot( p_a_list)"
   ]
  },
  {
   "cell_type": "markdown",
   "metadata": {},
   "source": [
    "We define $\\alpha$ and $\\beta$ as following:\n",
    "\n",
    "$1-\\alpha = \\sum_{d=0}^{c}\\frac{n!}{d!(n-d)!} \\cdot{p^{d}_{1}}\\cdot{(1-p_{1})}^{(n-d)}$\n",
    "\n",
    "$\\beta = \\sum_{d=0}^{c}\\frac{n!}{d!(n-d)!} \\cdot{p^{d}_{2}}\\cdot{(1-p_2)}^{(n-d)}$\n",
    "\n",
    "$p_1$ is a percent defective that is the base line requirement for the quality of the producer's product.\n",
    "\n",
    "$p_2$is a designated high defect level that would be unacceptable to the consumer."
   ]
  },
  {
   "cell_type": "code",
   "execution_count": 5,
   "metadata": {},
   "outputs": [
    {
     "data": {
      "text/html": [
       "<div>\n",
       "<style scoped>\n",
       "    .dataframe tbody tr th:only-of-type {\n",
       "        vertical-align: middle;\n",
       "    }\n",
       "\n",
       "    .dataframe tbody tr th {\n",
       "        vertical-align: top;\n",
       "    }\n",
       "\n",
       "    .dataframe thead th {\n",
       "        text-align: right;\n",
       "    }\n",
       "</style>\n",
       "<table border=\"1\" class=\"dataframe\">\n",
       "  <thead>\n",
       "    <tr style=\"text-align: right;\">\n",
       "      <th></th>\n",
       "      <th>P_a</th>\n",
       "      <th>P_d</th>\n",
       "      <th>alpha</th>\n",
       "    </tr>\n",
       "  </thead>\n",
       "  <tbody>\n",
       "    <tr>\n",
       "      <th>0</th>\n",
       "      <td>0.98172</td>\n",
       "      <td>0.01</td>\n",
       "      <td>0.01828</td>\n",
       "    </tr>\n",
       "    <tr>\n",
       "      <th>1</th>\n",
       "      <td>0.91692</td>\n",
       "      <td>0.02</td>\n",
       "      <td>0.08308</td>\n",
       "    </tr>\n",
       "    <tr>\n",
       "      <th>2</th>\n",
       "      <td>0.79198</td>\n",
       "      <td>0.03</td>\n",
       "      <td>0.20802</td>\n",
       "    </tr>\n",
       "    <tr>\n",
       "      <th>3</th>\n",
       "      <td>0.65594</td>\n",
       "      <td>0.04</td>\n",
       "      <td>0.34406</td>\n",
       "    </tr>\n",
       "    <tr>\n",
       "      <th>4</th>\n",
       "      <td>0.52000</td>\n",
       "      <td>0.05</td>\n",
       "      <td>0.48000</td>\n",
       "    </tr>\n",
       "    <tr>\n",
       "      <th>5</th>\n",
       "      <td>0.39062</td>\n",
       "      <td>0.06</td>\n",
       "      <td>0.60938</td>\n",
       "    </tr>\n",
       "    <tr>\n",
       "      <th>6</th>\n",
       "      <td>0.28560</td>\n",
       "      <td>0.07</td>\n",
       "      <td>0.71440</td>\n",
       "    </tr>\n",
       "    <tr>\n",
       "      <th>7</th>\n",
       "      <td>0.20360</td>\n",
       "      <td>0.08</td>\n",
       "      <td>0.79640</td>\n",
       "    </tr>\n",
       "    <tr>\n",
       "      <th>8</th>\n",
       "      <td>0.14050</td>\n",
       "      <td>0.09</td>\n",
       "      <td>0.85950</td>\n",
       "    </tr>\n",
       "    <tr>\n",
       "      <th>9</th>\n",
       "      <td>0.09844</td>\n",
       "      <td>0.10</td>\n",
       "      <td>0.90156</td>\n",
       "    </tr>\n",
       "    <tr>\n",
       "      <th>10</th>\n",
       "      <td>0.06688</td>\n",
       "      <td>0.11</td>\n",
       "      <td>0.93312</td>\n",
       "    </tr>\n",
       "    <tr>\n",
       "      <th>11</th>\n",
       "      <td>0.04224</td>\n",
       "      <td>0.12</td>\n",
       "      <td>0.95776</td>\n",
       "    </tr>\n",
       "  </tbody>\n",
       "</table>\n",
       "</div>"
      ],
      "text/plain": [
       "        P_a   P_d    alpha\n",
       "0   0.98172  0.01  0.01828\n",
       "1   0.91692  0.02  0.08308\n",
       "2   0.79198  0.03  0.20802\n",
       "3   0.65594  0.04  0.34406\n",
       "4   0.52000  0.05  0.48000\n",
       "5   0.39062  0.06  0.60938\n",
       "6   0.28560  0.07  0.71440\n",
       "7   0.20360  0.08  0.79640\n",
       "8   0.14050  0.09  0.85950\n",
       "9   0.09844  0.10  0.90156\n",
       "10  0.06688  0.11  0.93312\n",
       "11  0.04224  0.12  0.95776"
      ]
     },
     "execution_count": 5,
     "metadata": {},
     "output_type": "execute_result"
    }
   ],
   "source": [
    "alpha_list = []\n",
    "for i in range (0,len(p_a_list)):\n",
    "    alpha_list.append(1 - p_a_list[i])\n",
    "p_dic['alpha'] = alpha_list\n",
    "df =pd.DataFrame(p_dic)\n",
    "df"
   ]
  },
  {
   "cell_type": "markdown",
   "metadata": {},
   "source": [
    "**Average Outgoing Quality (AOQ)**"
   ]
  },
  {
   "cell_type": "markdown",
   "metadata": {},
   "source": [
    "AOQ can be understood as the defective proportion after we exclude the defective by using single sampling "
   ]
  },
  {
   "cell_type": "markdown",
   "metadata": {},
   "source": [
    "$AOQ = \\frac{p_a \\cdot p \\cdot {(N-n)}}{N}$\n",
    "\n",
    "We assume that$ N=10000,\\ n=52,\\ c=2,$"
   ]
  },
  {
   "cell_type": "code",
   "execution_count": 26,
   "metadata": {},
   "outputs": [
    {
     "data": {
      "text/html": [
       "<div>\n",
       "<style scoped>\n",
       "    .dataframe tbody tr th:only-of-type {\n",
       "        vertical-align: middle;\n",
       "    }\n",
       "\n",
       "    .dataframe tbody tr th {\n",
       "        vertical-align: top;\n",
       "    }\n",
       "\n",
       "    .dataframe thead th {\n",
       "        text-align: right;\n",
       "    }\n",
       "</style>\n",
       "<table border=\"1\" class=\"dataframe\">\n",
       "  <thead>\n",
       "    <tr style=\"text-align: right;\">\n",
       "      <th></th>\n",
       "      <th>P_a</th>\n",
       "      <th>P_d</th>\n",
       "      <th>AOQ</th>\n",
       "    </tr>\n",
       "  </thead>\n",
       "  <tbody>\n",
       "    <tr>\n",
       "      <th>0</th>\n",
       "      <td>0.98458</td>\n",
       "      <td>0.01</td>\n",
       "      <td>0.009795</td>\n",
       "    </tr>\n",
       "    <tr>\n",
       "      <th>1</th>\n",
       "      <td>0.91560</td>\n",
       "      <td>0.02</td>\n",
       "      <td>0.018217</td>\n",
       "    </tr>\n",
       "    <tr>\n",
       "      <th>2</th>\n",
       "      <td>0.79660</td>\n",
       "      <td>0.03</td>\n",
       "      <td>0.023774</td>\n",
       "    </tr>\n",
       "    <tr>\n",
       "      <th>3</th>\n",
       "      <td>0.65344</td>\n",
       "      <td>0.04</td>\n",
       "      <td>0.026002</td>\n",
       "    </tr>\n",
       "    <tr>\n",
       "      <th>4</th>\n",
       "      <td>0.51624</td>\n",
       "      <td>0.05</td>\n",
       "      <td>0.025678</td>\n",
       "    </tr>\n",
       "    <tr>\n",
       "      <th>5</th>\n",
       "      <td>0.38966</td>\n",
       "      <td>0.06</td>\n",
       "      <td>0.023258</td>\n",
       "    </tr>\n",
       "    <tr>\n",
       "      <th>6</th>\n",
       "      <td>0.28256</td>\n",
       "      <td>0.07</td>\n",
       "      <td>0.019676</td>\n",
       "    </tr>\n",
       "    <tr>\n",
       "      <th>7</th>\n",
       "      <td>0.20206</td>\n",
       "      <td>0.08</td>\n",
       "      <td>0.016081</td>\n",
       "    </tr>\n",
       "    <tr>\n",
       "      <th>8</th>\n",
       "      <td>0.14312</td>\n",
       "      <td>0.09</td>\n",
       "      <td>0.012814</td>\n",
       "    </tr>\n",
       "    <tr>\n",
       "      <th>9</th>\n",
       "      <td>0.09838</td>\n",
       "      <td>0.10</td>\n",
       "      <td>0.009787</td>\n",
       "    </tr>\n",
       "    <tr>\n",
       "      <th>10</th>\n",
       "      <td>0.06358</td>\n",
       "      <td>0.11</td>\n",
       "      <td>0.006957</td>\n",
       "    </tr>\n",
       "    <tr>\n",
       "      <th>11</th>\n",
       "      <td>0.04172</td>\n",
       "      <td>0.12</td>\n",
       "      <td>0.004980</td>\n",
       "    </tr>\n",
       "  </tbody>\n",
       "</table>\n",
       "</div>"
      ],
      "text/plain": [
       "        P_a   P_d       AOQ\n",
       "0   0.98458  0.01  0.009795\n",
       "1   0.91560  0.02  0.018217\n",
       "2   0.79660  0.03  0.023774\n",
       "3   0.65344  0.04  0.026002\n",
       "4   0.51624  0.05  0.025678\n",
       "5   0.38966  0.06  0.023258\n",
       "6   0.28256  0.07  0.019676\n",
       "7   0.20206  0.08  0.016081\n",
       "8   0.14312  0.09  0.012814\n",
       "9   0.09838  0.10  0.009787\n",
       "10  0.06358  0.11  0.006957\n",
       "11  0.04172  0.12  0.004980"
      ]
     },
     "execution_count": 26,
     "metadata": {},
     "output_type": "execute_result"
    }
   ],
   "source": [
    "aoq_list = []\n",
    "N = 10000\n",
    "for i in range (0,len(p_a_list)):\n",
    "    aoq = (p_a_list[i]*p_list[i]*(N-n))/N\n",
    "    aoq_list.append(aoq)\n",
    "p_dic['AOQ'] = aoq_list\n",
    "df =pd.DataFrame(p_dic)\n",
    "df"
   ]
  },
  {
   "cell_type": "code",
   "execution_count": 7,
   "metadata": {},
   "outputs": [
    {
     "data": {
      "text/plain": [
       "[<matplotlib.lines.Line2D at 0x7f40228e0550>]"
      ]
     },
     "execution_count": 7,
     "metadata": {},
     "output_type": "execute_result"
    },
    {
     "data": {
      "image/png": "[encoded data removed]",
      "text/plain": [
       "<Figure size 432x288 with 1 Axes>"
      ]
     },
     "metadata": {
      "needs_background": "light"
     },
     "output_type": "display_data"
    }
   ],
   "source": [
    "plt.plot( p_list, aoq_list)"
   ]
  },
  {
   "cell_type": "markdown",
   "metadata": {},
   "source": [
    "Our conclusion is that when $N \\gg n$, then we can find that $AOQ \\approx P_a \\cdot p$"
   ]
  },
  {
   "cell_type": "markdown",
   "metadata": {},
   "source": [
    "**The Average Total Inspection (ATI)**"
   ]
  },
  {
   "cell_type": "markdown",
   "metadata": {},
   "source": [
    "What is the total amount of inspection when rejected lots are screened?"
   ]
  },
  {
   "cell_type": "markdown",
   "metadata": {},
   "source": [
    "$ATI = n + (1-P_a)(N-n)$"
   ]
  },
  {
   "cell_type": "code",
   "execution_count": 8,
   "metadata": {},
   "outputs": [
    {
     "data": {
      "text/html": [
       "<div>\n",
       "<style scoped>\n",
       "    .dataframe tbody tr th:only-of-type {\n",
       "        vertical-align: middle;\n",
       "    }\n",
       "\n",
       "    .dataframe tbody tr th {\n",
       "        vertical-align: top;\n",
       "    }\n",
       "\n",
       "    .dataframe thead th {\n",
       "        text-align: right;\n",
       "    }\n",
       "</style>\n",
       "<table border=\"1\" class=\"dataframe\">\n",
       "  <thead>\n",
       "    <tr style=\"text-align: right;\">\n",
       "      <th></th>\n",
       "      <th>P_a</th>\n",
       "      <th>P_d</th>\n",
       "      <th>alpha</th>\n",
       "      <th>AOQ</th>\n",
       "      <th>ATI</th>\n",
       "    </tr>\n",
       "  </thead>\n",
       "  <tbody>\n",
       "    <tr>\n",
       "      <th>0</th>\n",
       "      <td>0.98172</td>\n",
       "      <td>0.01</td>\n",
       "      <td>0.01828</td>\n",
       "      <td>0.009766</td>\n",
       "      <td>233.84944</td>\n",
       "    </tr>\n",
       "    <tr>\n",
       "      <th>1</th>\n",
       "      <td>0.91692</td>\n",
       "      <td>0.02</td>\n",
       "      <td>0.08308</td>\n",
       "      <td>0.018243</td>\n",
       "      <td>878.47984</td>\n",
       "    </tr>\n",
       "    <tr>\n",
       "      <th>2</th>\n",
       "      <td>0.79198</td>\n",
       "      <td>0.03</td>\n",
       "      <td>0.20802</td>\n",
       "      <td>0.023636</td>\n",
       "      <td>2121.38296</td>\n",
       "    </tr>\n",
       "    <tr>\n",
       "      <th>3</th>\n",
       "      <td>0.65594</td>\n",
       "      <td>0.04</td>\n",
       "      <td>0.34406</td>\n",
       "      <td>0.026101</td>\n",
       "      <td>3474.70888</td>\n",
       "    </tr>\n",
       "    <tr>\n",
       "      <th>4</th>\n",
       "      <td>0.52000</td>\n",
       "      <td>0.05</td>\n",
       "      <td>0.48000</td>\n",
       "      <td>0.025865</td>\n",
       "      <td>4827.04000</td>\n",
       "    </tr>\n",
       "    <tr>\n",
       "      <th>5</th>\n",
       "      <td>0.39062</td>\n",
       "      <td>0.06</td>\n",
       "      <td>0.60938</td>\n",
       "      <td>0.023315</td>\n",
       "      <td>6114.11224</td>\n",
       "    </tr>\n",
       "    <tr>\n",
       "      <th>6</th>\n",
       "      <td>0.28560</td>\n",
       "      <td>0.07</td>\n",
       "      <td>0.71440</td>\n",
       "      <td>0.019888</td>\n",
       "      <td>7158.85120</td>\n",
       "    </tr>\n",
       "    <tr>\n",
       "      <th>7</th>\n",
       "      <td>0.20360</td>\n",
       "      <td>0.08</td>\n",
       "      <td>0.79640</td>\n",
       "      <td>0.016203</td>\n",
       "      <td>7974.58720</td>\n",
       "    </tr>\n",
       "    <tr>\n",
       "      <th>8</th>\n",
       "      <td>0.14050</td>\n",
       "      <td>0.09</td>\n",
       "      <td>0.85950</td>\n",
       "      <td>0.012579</td>\n",
       "      <td>8602.30600</td>\n",
       "    </tr>\n",
       "    <tr>\n",
       "      <th>9</th>\n",
       "      <td>0.09844</td>\n",
       "      <td>0.10</td>\n",
       "      <td>0.90156</td>\n",
       "      <td>0.009793</td>\n",
       "      <td>9020.71888</td>\n",
       "    </tr>\n",
       "    <tr>\n",
       "      <th>10</th>\n",
       "      <td>0.06688</td>\n",
       "      <td>0.11</td>\n",
       "      <td>0.93312</td>\n",
       "      <td>0.007319</td>\n",
       "      <td>9334.67776</td>\n",
       "    </tr>\n",
       "    <tr>\n",
       "      <th>11</th>\n",
       "      <td>0.04224</td>\n",
       "      <td>0.12</td>\n",
       "      <td>0.95776</td>\n",
       "      <td>0.005042</td>\n",
       "      <td>9579.79648</td>\n",
       "    </tr>\n",
       "  </tbody>\n",
       "</table>\n",
       "</div>"
      ],
      "text/plain": [
       "        P_a   P_d    alpha       AOQ         ATI\n",
       "0   0.98172  0.01  0.01828  0.009766   233.84944\n",
       "1   0.91692  0.02  0.08308  0.018243   878.47984\n",
       "2   0.79198  0.03  0.20802  0.023636  2121.38296\n",
       "3   0.65594  0.04  0.34406  0.026101  3474.70888\n",
       "4   0.52000  0.05  0.48000  0.025865  4827.04000\n",
       "5   0.39062  0.06  0.60938  0.023315  6114.11224\n",
       "6   0.28560  0.07  0.71440  0.019888  7158.85120\n",
       "7   0.20360  0.08  0.79640  0.016203  7974.58720\n",
       "8   0.14050  0.09  0.85950  0.012579  8602.30600\n",
       "9   0.09844  0.10  0.90156  0.009793  9020.71888\n",
       "10  0.06688  0.11  0.93312  0.007319  9334.67776\n",
       "11  0.04224  0.12  0.95776  0.005042  9579.79648"
      ]
     },
     "execution_count": 8,
     "metadata": {},
     "output_type": "execute_result"
    }
   ],
   "source": [
    "ati_list = []\n",
    "for i in range (0,len(p_a_list)):\n",
    "    ati = 52 + ((1 -p_a_list[i])*(10000-52))\n",
    "    ati_list.append(ati)\n",
    "p_dic['ATI'] = ati_list\n",
    "df =pd.DataFrame(p_dic)\n",
    "df"
   ]
  },
  {
   "cell_type": "code",
   "execution_count": 9,
   "metadata": {},
   "outputs": [
    {
     "data": {
      "text/plain": [
       "[<matplotlib.lines.Line2D at 0x7f40228bf160>]"
      ]
     },
     "execution_count": 9,
     "metadata": {},
     "output_type": "execute_result"
    },
    {
     "data": {
      "image/png": "[encoded data removed]",
      "text/plain": [
       "<Figure size 432x288 with 1 Axes>"
      ]
     },
     "metadata": {
      "needs_background": "light"
     },
     "output_type": "display_data"
    }
   ],
   "source": [
    "plt.plot( p_list, ati_list)"
   ]
  },
  {
   "cell_type": "markdown",
   "metadata": {},
   "source": [
    "## Double Sample test"
   ]
  },
  {
   "cell_type": "markdown",
   "metadata": {},
   "source": [
    "The number of defectives is then counted and compared to the first sample's acceptance number $a_1$ and rejection number is $r_1$. Denote the number of defectives in sample 1 by $d_1$.\n",
    "\n",
    "The number of defectives is then counted and compared to the second sample's acceptance number $a_2$ and rejection number is $r_2$. Denote the number of defectives in sample 2 by $d_2$. $r_2 = a_2 + 1$"
   ]
  },
  {
   "cell_type": "markdown",
   "metadata": {},
   "source": [
    "If $d_1 \\le a_1$, the lot is accepted.\n",
    "\n",
    "If $d_1 \\ge r_1$, the lot is rejected.\n",
    "\n",
    "If $a_1<d_1<r_1$, a second sample is taken."
   ]
  },
  {
   "cell_type": "markdown",
   "metadata": {},
   "source": [
    "If a second sample of size $n_2$ is taken, the number of defectives, $d_2$, is counted."
   ]
  },
  {
   "cell_type": "markdown",
   "metadata": {},
   "source": [
    "The total number of defectives is $D_2 = d_1 + d_2$"
   ]
  },
  {
   "cell_type": "markdown",
   "metadata": {},
   "source": [
    "If $D2 \\le a2$, the lot is accepted.\n",
    "If $D2\\ge r2$, the lot is rejected."
   ]
  },
  {
   "cell_type": "markdown",
   "metadata": {},
   "source": [
    "### For example ###\n",
    "\n",
    "$n_1 = 50, n_2 = 100,\\frac{c_2}{c_1} = 2,  c_1 =2 $\n",
    "\n",
    "$p_1 = 0.01, p_2 = 0.05, \\beta = 0.10$\n",
    "\n",
    "**Then the probability of acceptance on the first sample, which is the chance of getting two or less defectives, refers to $P_1$.**"
   ]
  },
  {
   "cell_type": "markdown",
   "metadata": {},
   "source": [
    "We define the Average Sample Number (ASN)to denote the sample number for double sample test."
   ]
  },
  {
   "cell_type": "code",
   "execution_count": 34,
   "metadata": {},
   "outputs": [
    {
     "data": {
      "text/html": [
       "<div>\n",
       "<style scoped>\n",
       "    .dataframe tbody tr th:only-of-type {\n",
       "        vertical-align: middle;\n",
       "    }\n",
       "\n",
       "    .dataframe tbody tr th {\n",
       "        vertical-align: top;\n",
       "    }\n",
       "\n",
       "    .dataframe thead th {\n",
       "        text-align: right;\n",
       "    }\n",
       "</style>\n",
       "<table border=\"1\" class=\"dataframe\">\n",
       "  <thead>\n",
       "    <tr style=\"text-align: right;\">\n",
       "      <th></th>\n",
       "      <th>Sample 1 accept</th>\n",
       "      <th>Sample 2 decline</th>\n",
       "      <th>Defective probability for 1</th>\n",
       "      <th>Defective probability for 2</th>\n",
       "    </tr>\n",
       "  </thead>\n",
       "  <tbody>\n",
       "    <tr>\n",
       "      <th>0</th>\n",
       "      <td>0.98628</td>\n",
       "      <td>0.99964</td>\n",
       "      <td>0.01</td>\n",
       "      <td>0.0125</td>\n",
       "    </tr>\n",
       "    <tr>\n",
       "      <th>1</th>\n",
       "      <td>0.92090</td>\n",
       "      <td>0.98680</td>\n",
       "      <td>0.02</td>\n",
       "      <td>0.0250</td>\n",
       "    </tr>\n",
       "    <tr>\n",
       "      <th>2</th>\n",
       "      <td>0.80952</td>\n",
       "      <td>0.91862</td>\n",
       "      <td>0.03</td>\n",
       "      <td>0.0375</td>\n",
       "    </tr>\n",
       "    <tr>\n",
       "      <th>3</th>\n",
       "      <td>0.67366</td>\n",
       "      <td>0.76648</td>\n",
       "      <td>0.04</td>\n",
       "      <td>0.0500</td>\n",
       "    </tr>\n",
       "    <tr>\n",
       "      <th>4</th>\n",
       "      <td>0.54414</td>\n",
       "      <td>0.56146</td>\n",
       "      <td>0.05</td>\n",
       "      <td>0.0625</td>\n",
       "    </tr>\n",
       "    <tr>\n",
       "      <th>5</th>\n",
       "      <td>0.41454</td>\n",
       "      <td>0.37136</td>\n",
       "      <td>0.06</td>\n",
       "      <td>0.0750</td>\n",
       "    </tr>\n",
       "    <tr>\n",
       "      <th>6</th>\n",
       "      <td>0.31112</td>\n",
       "      <td>0.21906</td>\n",
       "      <td>0.07</td>\n",
       "      <td>0.0875</td>\n",
       "    </tr>\n",
       "    <tr>\n",
       "      <th>7</th>\n",
       "      <td>0.22972</td>\n",
       "      <td>0.11958</td>\n",
       "      <td>0.08</td>\n",
       "      <td>0.1000</td>\n",
       "    </tr>\n",
       "    <tr>\n",
       "      <th>8</th>\n",
       "      <td>0.15994</td>\n",
       "      <td>0.05790</td>\n",
       "      <td>0.09</td>\n",
       "      <td>0.1125</td>\n",
       "    </tr>\n",
       "    <tr>\n",
       "      <th>9</th>\n",
       "      <td>0.10920</td>\n",
       "      <td>0.02756</td>\n",
       "      <td>0.10</td>\n",
       "      <td>0.1250</td>\n",
       "    </tr>\n",
       "    <tr>\n",
       "      <th>10</th>\n",
       "      <td>0.07464</td>\n",
       "      <td>0.01188</td>\n",
       "      <td>0.11</td>\n",
       "      <td>0.1375</td>\n",
       "    </tr>\n",
       "    <tr>\n",
       "      <th>11</th>\n",
       "      <td>0.05118</td>\n",
       "      <td>0.00486</td>\n",
       "      <td>0.12</td>\n",
       "      <td>0.1500</td>\n",
       "    </tr>\n",
       "  </tbody>\n",
       "</table>\n",
       "</div>"
      ],
      "text/plain": [
       "    Sample 1 accept  Sample 2 decline  Defective probability for 1  \\\n",
       "0           0.98628           0.99964                         0.01   \n",
       "1           0.92090           0.98680                         0.02   \n",
       "2           0.80952           0.91862                         0.03   \n",
       "3           0.67366           0.76648                         0.04   \n",
       "4           0.54414           0.56146                         0.05   \n",
       "5           0.41454           0.37136                         0.06   \n",
       "6           0.31112           0.21906                         0.07   \n",
       "7           0.22972           0.11958                         0.08   \n",
       "8           0.15994           0.05790                         0.09   \n",
       "9           0.10920           0.02756                         0.10   \n",
       "10          0.07464           0.01188                         0.11   \n",
       "11          0.05118           0.00486                         0.12   \n",
       "\n",
       "    Defective probability for 2  \n",
       "0                        0.0125  \n",
       "1                        0.0250  \n",
       "2                        0.0375  \n",
       "3                        0.0500  \n",
       "4                        0.0625  \n",
       "5                        0.0750  \n",
       "6                        0.0875  \n",
       "7                        0.1000  \n",
       "8                        0.1125  \n",
       "9                        0.1250  \n",
       "10                       0.1375  \n",
       "11                       0.1500  "
      ]
     },
     "execution_count": 34,
     "metadata": {},
     "output_type": "execute_result"
    }
   ],
   "source": [
    "n_1 = 50\n",
    "n_2 = 100\n",
    "c_1 = 2\n",
    "c_2 = 6\n",
    "p_list_a = []\n",
    "p_list_b = []\n",
    "for i in range (1,13):\n",
    "    p_list_a.append(i/100)\n",
    "    p_list_b.append(i/80)\n",
    "p_d_list = []\n",
    "p_a_list = []\n",
    "for i in range (0,len(p_list)):\n",
    "    #p_d = sum(np.random.binomial(52,p_list[i],50000)==3)/50000\n",
    "    accpet_sample_def =sum(np.random.binomial(n_1,p_list_a[i],50000)<=c_1)\n",
    "    p_a_1 = accpet_sample_def/50000 \n",
    "    p_a_list.append(p_a_1)\n",
    "   # p_a_list.append(p_a)\n",
    "    decline_sample_2 =sum(np.random.binomial(n_2,p_list_b[i],50000)>c_2)\n",
    "    p_d_list.append(1- decline_sample_2/50000) \n",
    "p_dic = {'Sample 1 accept':p_a_list,'Sample 2 decline':p_d_list,'Defective probability for 1':p_list_a,'Defective probability for 2':p_list_b}\n",
    "df =pd.DataFrame(p_dic)\n",
    "df"
   ]
  },
  {
   "cell_type": "code",
   "execution_count": 38,
   "metadata": {},
   "outputs": [
    {
     "data": {
      "text/html": [
       "<div>\n",
       "<style scoped>\n",
       "    .dataframe tbody tr th:only-of-type {\n",
       "        vertical-align: middle;\n",
       "    }\n",
       "\n",
       "    .dataframe tbody tr th {\n",
       "        vertical-align: top;\n",
       "    }\n",
       "\n",
       "    .dataframe thead th {\n",
       "        text-align: right;\n",
       "    }\n",
       "</style>\n",
       "<table border=\"1\" class=\"dataframe\">\n",
       "  <thead>\n",
       "    <tr style=\"text-align: right;\">\n",
       "      <th></th>\n",
       "      <th>Sample 1 accept</th>\n",
       "      <th>Sample 2 decline</th>\n",
       "      <th>Defective probability for 1</th>\n",
       "      <th>Defective probability for 2</th>\n",
       "      <th>ASN</th>\n",
       "    </tr>\n",
       "  </thead>\n",
       "  <tbody>\n",
       "    <tr>\n",
       "      <th>0</th>\n",
       "      <td>0.98628</td>\n",
       "      <td>0.99964</td>\n",
       "      <td>0.01</td>\n",
       "      <td>0.0125</td>\n",
       "      <td>51.372</td>\n",
       "    </tr>\n",
       "    <tr>\n",
       "      <th>1</th>\n",
       "      <td>0.92090</td>\n",
       "      <td>0.98680</td>\n",
       "      <td>0.02</td>\n",
       "      <td>0.0250</td>\n",
       "      <td>57.910</td>\n",
       "    </tr>\n",
       "    <tr>\n",
       "      <th>2</th>\n",
       "      <td>0.80952</td>\n",
       "      <td>0.91862</td>\n",
       "      <td>0.03</td>\n",
       "      <td>0.0375</td>\n",
       "      <td>69.048</td>\n",
       "    </tr>\n",
       "    <tr>\n",
       "      <th>3</th>\n",
       "      <td>0.67366</td>\n",
       "      <td>0.76648</td>\n",
       "      <td>0.04</td>\n",
       "      <td>0.0500</td>\n",
       "      <td>82.634</td>\n",
       "    </tr>\n",
       "    <tr>\n",
       "      <th>4</th>\n",
       "      <td>0.54414</td>\n",
       "      <td>0.56146</td>\n",
       "      <td>0.05</td>\n",
       "      <td>0.0625</td>\n",
       "      <td>95.586</td>\n",
       "    </tr>\n",
       "    <tr>\n",
       "      <th>5</th>\n",
       "      <td>0.41454</td>\n",
       "      <td>0.37136</td>\n",
       "      <td>0.06</td>\n",
       "      <td>0.0750</td>\n",
       "      <td>108.546</td>\n",
       "    </tr>\n",
       "    <tr>\n",
       "      <th>6</th>\n",
       "      <td>0.31112</td>\n",
       "      <td>0.21906</td>\n",
       "      <td>0.07</td>\n",
       "      <td>0.0875</td>\n",
       "      <td>118.888</td>\n",
       "    </tr>\n",
       "    <tr>\n",
       "      <th>7</th>\n",
       "      <td>0.22972</td>\n",
       "      <td>0.11958</td>\n",
       "      <td>0.08</td>\n",
       "      <td>0.1000</td>\n",
       "      <td>127.028</td>\n",
       "    </tr>\n",
       "    <tr>\n",
       "      <th>8</th>\n",
       "      <td>0.15994</td>\n",
       "      <td>0.05790</td>\n",
       "      <td>0.09</td>\n",
       "      <td>0.1125</td>\n",
       "      <td>134.006</td>\n",
       "    </tr>\n",
       "    <tr>\n",
       "      <th>9</th>\n",
       "      <td>0.10920</td>\n",
       "      <td>0.02756</td>\n",
       "      <td>0.10</td>\n",
       "      <td>0.1250</td>\n",
       "      <td>139.080</td>\n",
       "    </tr>\n",
       "    <tr>\n",
       "      <th>10</th>\n",
       "      <td>0.07464</td>\n",
       "      <td>0.01188</td>\n",
       "      <td>0.11</td>\n",
       "      <td>0.1375</td>\n",
       "      <td>142.536</td>\n",
       "    </tr>\n",
       "    <tr>\n",
       "      <th>11</th>\n",
       "      <td>0.05118</td>\n",
       "      <td>0.00486</td>\n",
       "      <td>0.12</td>\n",
       "      <td>0.1500</td>\n",
       "      <td>144.882</td>\n",
       "    </tr>\n",
       "  </tbody>\n",
       "</table>\n",
       "</div>"
      ],
      "text/plain": [
       "    Sample 1 accept  Sample 2 decline  Defective probability for 1  \\\n",
       "0           0.98628           0.99964                         0.01   \n",
       "1           0.92090           0.98680                         0.02   \n",
       "2           0.80952           0.91862                         0.03   \n",
       "3           0.67366           0.76648                         0.04   \n",
       "4           0.54414           0.56146                         0.05   \n",
       "5           0.41454           0.37136                         0.06   \n",
       "6           0.31112           0.21906                         0.07   \n",
       "7           0.22972           0.11958                         0.08   \n",
       "8           0.15994           0.05790                         0.09   \n",
       "9           0.10920           0.02756                         0.10   \n",
       "10          0.07464           0.01188                         0.11   \n",
       "11          0.05118           0.00486                         0.12   \n",
       "\n",
       "    Defective probability for 2      ASN  \n",
       "0                        0.0125   51.372  \n",
       "1                        0.0250   57.910  \n",
       "2                        0.0375   69.048  \n",
       "3                        0.0500   82.634  \n",
       "4                        0.0625   95.586  \n",
       "5                        0.0750  108.546  \n",
       "6                        0.0875  118.888  \n",
       "7                        0.1000  127.028  \n",
       "8                        0.1125  134.006  \n",
       "9                        0.1250  139.080  \n",
       "10                       0.1375  142.536  \n",
       "11                       0.1500  144.882  "
      ]
     },
     "execution_count": 38,
     "metadata": {},
     "output_type": "execute_result"
    },
    {
     "data": {
      "image/png": "[encoded data removed]",
      "text/plain": [
       "<Figure size 432x288 with 1 Axes>"
      ]
     },
     "metadata": {
      "needs_background": "light"
     },
     "output_type": "display_data"
    }
   ],
   "source": [
    "asn_list = []\n",
    "for i in range (0,len(p_a_list)):\n",
    "    asn_list.append((1 - p_a_list[i]) * n_2 + n_1)\n",
    "p_dic['ASN'] = asn_list\n",
    "df =pd.DataFrame(p_dic)\n",
    "plt.plot(p_list, asn_list)\n",
    "df"
   ]
  }
 ],
 "metadata": {
  "kernelspec": {
   "display_name": "Python 3",
   "language": "python",
   "name": "python3"
  },
  "language_info": {
   "codemirror_mode": {
    "name": "ipython",
    "version": 3
   },
   "file_extension": ".py",
   "mimetype": "text/x-python",
   "name": "python",
   "nbconvert_exporter": "python",
   "pygments_lexer": "ipython3",
   "version": "3.8.5"
  }
 },
 "nbformat": 4,
 "nbformat_minor": 4
}
