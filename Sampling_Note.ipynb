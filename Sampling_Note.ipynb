{
 "cells": [
  {
   "cell_type": "markdown",
   "metadata": {},
   "source": [
    "# This notebook is made for the sampling problems"
   ]
  },
  {
   "cell_type": "markdown",
   "metadata": {},
   "source": [
    "## Single Sample hypothesis test"
   ]
  },
  {
   "cell_type": "markdown",
   "metadata": {},
   "source": [
    " **Choosing a Sampling Plan with a given OC Curve**"
   ]
  },
  {
   "cell_type": "markdown",
   "metadata": {},
   "source": [
    "The probability of observing exactly d defectives is given by:\n",
    "\n",
    "$P_d = f(d) = \\frac{n!}{d!(n-d)!} \\cdot{p^d}\\cdot{(1-p)}^{(n-d)}$ "
   ]
  },
  {
   "cell_type": "markdown",
   "metadata": {},
   "source": [
    "Using this formula with $n=52,\\ c=3,\\ and\\ p=0.01,0.02,…,0.12$, which means that we default believe $P_d = p$.\n",
    "\n",
    "The probability of acceptance is the probability that d, the number of defectives, is less than or equal to c, the accept number. This means that:\n",
    "\n",
    "$P_a = P(d\\le c) = \\sum_{d=0}^{c}\\frac{n!}{d!(n-d)!} \\cdot{p^d}\\cdot{(1-p)}^{(n-d)}$, then we find:"
   ]
  },
  {
   "cell_type": "code",
   "execution_count": 56,
   "metadata": {},
   "outputs": [
    {
     "data": {
      "text/html": [
       "<div>\n",
       "<style scoped>\n",
       "    .dataframe tbody tr th:only-of-type {\n",
       "        vertical-align: middle;\n",
       "    }\n",
       "\n",
       "    .dataframe tbody tr th {\n",
       "        vertical-align: top;\n",
       "    }\n",
       "\n",
       "    .dataframe thead th {\n",
       "        text-align: right;\n",
       "    }\n",
       "</style>\n",
       "<table border=\"1\" class=\"dataframe\">\n",
       "  <thead>\n",
       "    <tr style=\"text-align: right;\">\n",
       "      <th></th>\n",
       "      <th>P_a</th>\n",
       "      <th>P_d</th>\n",
       "    </tr>\n",
       "  </thead>\n",
       "  <tbody>\n",
       "    <tr>\n",
       "      <th>0</th>\n",
       "      <td>0.99694</td>\n",
       "      <td>0.01</td>\n",
       "    </tr>\n",
       "    <tr>\n",
       "      <th>1</th>\n",
       "      <td>0.98630</td>\n",
       "      <td>0.02</td>\n",
       "    </tr>\n",
       "    <tr>\n",
       "      <th>2</th>\n",
       "      <td>0.93166</td>\n",
       "      <td>0.03</td>\n",
       "    </tr>\n",
       "    <tr>\n",
       "      <th>3</th>\n",
       "      <td>0.83956</td>\n",
       "      <td>0.04</td>\n",
       "    </tr>\n",
       "    <tr>\n",
       "      <th>4</th>\n",
       "      <td>0.73732</td>\n",
       "      <td>0.05</td>\n",
       "    </tr>\n",
       "    <tr>\n",
       "      <th>5</th>\n",
       "      <td>0.61846</td>\n",
       "      <td>0.06</td>\n",
       "    </tr>\n",
       "    <tr>\n",
       "      <th>6</th>\n",
       "      <td>0.50388</td>\n",
       "      <td>0.07</td>\n",
       "    </tr>\n",
       "    <tr>\n",
       "      <th>7</th>\n",
       "      <td>0.39260</td>\n",
       "      <td>0.08</td>\n",
       "    </tr>\n",
       "    <tr>\n",
       "      <th>8</th>\n",
       "      <td>0.29974</td>\n",
       "      <td>0.09</td>\n",
       "    </tr>\n",
       "    <tr>\n",
       "      <th>9</th>\n",
       "      <td>0.22178</td>\n",
       "      <td>0.10</td>\n",
       "    </tr>\n",
       "    <tr>\n",
       "      <th>10</th>\n",
       "      <td>0.16394</td>\n",
       "      <td>0.11</td>\n",
       "    </tr>\n",
       "    <tr>\n",
       "      <th>11</th>\n",
       "      <td>0.11474</td>\n",
       "      <td>0.12</td>\n",
       "    </tr>\n",
       "  </tbody>\n",
       "</table>\n",
       "</div>"
      ],
      "text/plain": [
       "        P_a   P_d\n",
       "0   0.99694  0.01\n",
       "1   0.98630  0.02\n",
       "2   0.93166  0.03\n",
       "3   0.83956  0.04\n",
       "4   0.73732  0.05\n",
       "5   0.61846  0.06\n",
       "6   0.50388  0.07\n",
       "7   0.39260  0.08\n",
       "8   0.29974  0.09\n",
       "9   0.22178  0.10\n",
       "10  0.16394  0.11\n",
       "11  0.11474  0.12"
      ]
     },
     "execution_count": 56,
     "metadata": {},
     "output_type": "execute_result"
    }
   ],
   "source": [
    "import numpy as np\n",
    "import pandas as pd\n",
    "p_list = []\n",
    "for i in range (1,13):\n",
    "    p_list.append(i/100)\n",
    "p_d_list = []\n",
    "p_a_list = []\n",
    "for i in range (0,len(p_list)):\n",
    "    #p_d = sum(np.random.binomial(52,p_list[i],50000)==3)/50000\n",
    "    accpet_0_def = sum(np.random.binomial(52,p_list[i],50000)==0)\n",
    "    accpet_1_def = sum(np.random.binomial(52,p_list[i],50000)==1)\n",
    "    accpet_2_def =sum(np.random.binomial(52,p_list[i],50000)==2)\n",
    "    accpet_3_def =sum(np.random.binomial(52,p_list[i],50000)==3)\n",
    "    p_a = (accpet_0_def+accpet_1_def+accpet_2_def+accpet_3_def)/50000 \n",
    "    p_a_list.append(p_a)\n",
    "   # p_a_list.append(p_a)\n",
    "p_dic = {'P_a':p_a_list,'P_d':p_list}\n",
    "df =pd.DataFrame(p_dic)\n",
    "df"
   ]
  },
  {
   "cell_type": "code",
   "execution_count": 57,
   "metadata": {},
   "outputs": [
    {
     "data": {
      "text/plain": [
       "[<matplotlib.lines.Line2D at 0x7f394d0ee2b0>]"
      ]
     },
     "execution_count": 57,
     "metadata": {},
     "output_type": "execute_result"
    },
    {
     "data": {
      "image/png": "[encoded data removed]",
      "text/plain": [
       "<Figure size 432x288 with 1 Axes>"
      ]
     },
     "metadata": {
      "needs_background": "light"
     },
     "output_type": "display_data"
    }
   ],
   "source": [
    "import matplotlib.pyplot as plt \n",
    "plt.plot( p_a_list)"
   ]
  },
  {
   "cell_type": "markdown",
   "metadata": {},
   "source": [
    "We define $\\alpha$ and $\\beta$ as following:\n",
    "\n",
    "$1-\\alpha = \\sum_{d=0}^{c}\\frac{n!}{d!(n-d)!} \\cdot{p^{d}_{1}}\\cdot{(1-p_{1})}^{(n-d)}$\n",
    "\n",
    "$\\beta = \\sum_{d=0}^{c}\\frac{n!}{d!(n-d)!} \\cdot{p^{d}_{2}}\\cdot{(1-p_2)}^{(n-d)}$\n",
    "\n",
    "$p_1$ is a percent defective that is the base line requirement for the quality of the producer's product.\n",
    "\n",
    "$p_2$is a designated high defect level that would be unacceptable to the consumer."
   ]
  },
  {
   "cell_type": "code",
   "execution_count": 61,
   "metadata": {},
   "outputs": [
    {
     "data": {
      "text/html": [
       "<div>\n",
       "<style scoped>\n",
       "    .dataframe tbody tr th:only-of-type {\n",
       "        vertical-align: middle;\n",
       "    }\n",
       "\n",
       "    .dataframe tbody tr th {\n",
       "        vertical-align: top;\n",
       "    }\n",
       "\n",
       "    .dataframe thead th {\n",
       "        text-align: right;\n",
       "    }\n",
       "</style>\n",
       "<table border=\"1\" class=\"dataframe\">\n",
       "  <thead>\n",
       "    <tr style=\"text-align: right;\">\n",
       "      <th></th>\n",
       "      <th>P_a</th>\n",
       "      <th>P_d</th>\n",
       "      <th>alpha</th>\n",
       "    </tr>\n",
       "  </thead>\n",
       "  <tbody>\n",
       "    <tr>\n",
       "      <th>0</th>\n",
       "      <td>0.99694</td>\n",
       "      <td>0.01</td>\n",
       "      <td>0.00306</td>\n",
       "    </tr>\n",
       "    <tr>\n",
       "      <th>1</th>\n",
       "      <td>0.98630</td>\n",
       "      <td>0.02</td>\n",
       "      <td>0.01370</td>\n",
       "    </tr>\n",
       "    <tr>\n",
       "      <th>2</th>\n",
       "      <td>0.93166</td>\n",
       "      <td>0.03</td>\n",
       "      <td>0.06834</td>\n",
       "    </tr>\n",
       "    <tr>\n",
       "      <th>3</th>\n",
       "      <td>0.83956</td>\n",
       "      <td>0.04</td>\n",
       "      <td>0.16044</td>\n",
       "    </tr>\n",
       "    <tr>\n",
       "      <th>4</th>\n",
       "      <td>0.73732</td>\n",
       "      <td>0.05</td>\n",
       "      <td>0.26268</td>\n",
       "    </tr>\n",
       "    <tr>\n",
       "      <th>5</th>\n",
       "      <td>0.61846</td>\n",
       "      <td>0.06</td>\n",
       "      <td>0.38154</td>\n",
       "    </tr>\n",
       "    <tr>\n",
       "      <th>6</th>\n",
       "      <td>0.50388</td>\n",
       "      <td>0.07</td>\n",
       "      <td>0.49612</td>\n",
       "    </tr>\n",
       "    <tr>\n",
       "      <th>7</th>\n",
       "      <td>0.39260</td>\n",
       "      <td>0.08</td>\n",
       "      <td>0.60740</td>\n",
       "    </tr>\n",
       "    <tr>\n",
       "      <th>8</th>\n",
       "      <td>0.29974</td>\n",
       "      <td>0.09</td>\n",
       "      <td>0.70026</td>\n",
       "    </tr>\n",
       "    <tr>\n",
       "      <th>9</th>\n",
       "      <td>0.22178</td>\n",
       "      <td>0.10</td>\n",
       "      <td>0.77822</td>\n",
       "    </tr>\n",
       "    <tr>\n",
       "      <th>10</th>\n",
       "      <td>0.16394</td>\n",
       "      <td>0.11</td>\n",
       "      <td>0.83606</td>\n",
       "    </tr>\n",
       "    <tr>\n",
       "      <th>11</th>\n",
       "      <td>0.11474</td>\n",
       "      <td>0.12</td>\n",
       "      <td>0.88526</td>\n",
       "    </tr>\n",
       "  </tbody>\n",
       "</table>\n",
       "</div>"
      ],
      "text/plain": [
       "        P_a   P_d    alpha\n",
       "0   0.99694  0.01  0.00306\n",
       "1   0.98630  0.02  0.01370\n",
       "2   0.93166  0.03  0.06834\n",
       "3   0.83956  0.04  0.16044\n",
       "4   0.73732  0.05  0.26268\n",
       "5   0.61846  0.06  0.38154\n",
       "6   0.50388  0.07  0.49612\n",
       "7   0.39260  0.08  0.60740\n",
       "8   0.29974  0.09  0.70026\n",
       "9   0.22178  0.10  0.77822\n",
       "10  0.16394  0.11  0.83606\n",
       "11  0.11474  0.12  0.88526"
      ]
     },
     "execution_count": 61,
     "metadata": {},
     "output_type": "execute_result"
    }
   ],
   "source": [
    "alpha_list = []\n",
    "for i in range (0,len(p_a_list)):\n",
    "    alpha_list.append(1 - p_a_list[i])\n",
    "p_dic['alpha'] = alpha_list\n",
    "df =pd.DataFrame(p_dic)\n",
    "df"
   ]
  },
  {
   "cell_type": "markdown",
   "metadata": {},
   "source": [
    "**Average Outgoing Quality (AOQ)**"
   ]
  },
  {
   "cell_type": "markdown",
   "metadata": {},
   "source": [
    "AOQ can be understood as the defective proportion after we exclude the defective by using single sampling "
   ]
  },
  {
   "cell_type": "markdown",
   "metadata": {},
   "source": [
    "$AOQ = \\frac{p_a \\cdot p \\cdot {(N-n)}}{N}$\n",
    "\n",
    "We assume that$ N=10000,\\ n=52,\\ c=3,$"
   ]
  },
  {
   "cell_type": "code",
   "execution_count": 66,
   "metadata": {},
   "outputs": [
    {
     "data": {
      "text/html": [
       "<div>\n",
       "<style scoped>\n",
       "    .dataframe tbody tr th:only-of-type {\n",
       "        vertical-align: middle;\n",
       "    }\n",
       "\n",
       "    .dataframe tbody tr th {\n",
       "        vertical-align: top;\n",
       "    }\n",
       "\n",
       "    .dataframe thead th {\n",
       "        text-align: right;\n",
       "    }\n",
       "</style>\n",
       "<table border=\"1\" class=\"dataframe\">\n",
       "  <thead>\n",
       "    <tr style=\"text-align: right;\">\n",
       "      <th></th>\n",
       "      <th>P_a</th>\n",
       "      <th>P_d</th>\n",
       "      <th>alpha</th>\n",
       "      <th>AOQ</th>\n",
       "    </tr>\n",
       "  </thead>\n",
       "  <tbody>\n",
       "    <tr>\n",
       "      <th>0</th>\n",
       "      <td>0.99694</td>\n",
       "      <td>0.01</td>\n",
       "      <td>0.00306</td>\n",
       "      <td>0.009918</td>\n",
       "    </tr>\n",
       "    <tr>\n",
       "      <th>1</th>\n",
       "      <td>0.98630</td>\n",
       "      <td>0.02</td>\n",
       "      <td>0.01370</td>\n",
       "      <td>0.019623</td>\n",
       "    </tr>\n",
       "    <tr>\n",
       "      <th>2</th>\n",
       "      <td>0.93166</td>\n",
       "      <td>0.03</td>\n",
       "      <td>0.06834</td>\n",
       "      <td>0.027804</td>\n",
       "    </tr>\n",
       "    <tr>\n",
       "      <th>3</th>\n",
       "      <td>0.83956</td>\n",
       "      <td>0.04</td>\n",
       "      <td>0.16044</td>\n",
       "      <td>0.033408</td>\n",
       "    </tr>\n",
       "    <tr>\n",
       "      <th>4</th>\n",
       "      <td>0.73732</td>\n",
       "      <td>0.05</td>\n",
       "      <td>0.26268</td>\n",
       "      <td>0.036674</td>\n",
       "    </tr>\n",
       "    <tr>\n",
       "      <th>5</th>\n",
       "      <td>0.61846</td>\n",
       "      <td>0.06</td>\n",
       "      <td>0.38154</td>\n",
       "      <td>0.036915</td>\n",
       "    </tr>\n",
       "    <tr>\n",
       "      <th>6</th>\n",
       "      <td>0.50388</td>\n",
       "      <td>0.07</td>\n",
       "      <td>0.49612</td>\n",
       "      <td>0.035088</td>\n",
       "    </tr>\n",
       "    <tr>\n",
       "      <th>7</th>\n",
       "      <td>0.39260</td>\n",
       "      <td>0.08</td>\n",
       "      <td>0.60740</td>\n",
       "      <td>0.031245</td>\n",
       "    </tr>\n",
       "    <tr>\n",
       "      <th>8</th>\n",
       "      <td>0.29974</td>\n",
       "      <td>0.09</td>\n",
       "      <td>0.70026</td>\n",
       "      <td>0.026836</td>\n",
       "    </tr>\n",
       "    <tr>\n",
       "      <th>9</th>\n",
       "      <td>0.22178</td>\n",
       "      <td>0.10</td>\n",
       "      <td>0.77822</td>\n",
       "      <td>0.022063</td>\n",
       "    </tr>\n",
       "    <tr>\n",
       "      <th>10</th>\n",
       "      <td>0.16394</td>\n",
       "      <td>0.11</td>\n",
       "      <td>0.83606</td>\n",
       "      <td>0.017940</td>\n",
       "    </tr>\n",
       "    <tr>\n",
       "      <th>11</th>\n",
       "      <td>0.11474</td>\n",
       "      <td>0.12</td>\n",
       "      <td>0.88526</td>\n",
       "      <td>0.013697</td>\n",
       "    </tr>\n",
       "  </tbody>\n",
       "</table>\n",
       "</div>"
      ],
      "text/plain": [
       "        P_a   P_d    alpha       AOQ\n",
       "0   0.99694  0.01  0.00306  0.009918\n",
       "1   0.98630  0.02  0.01370  0.019623\n",
       "2   0.93166  0.03  0.06834  0.027804\n",
       "3   0.83956  0.04  0.16044  0.033408\n",
       "4   0.73732  0.05  0.26268  0.036674\n",
       "5   0.61846  0.06  0.38154  0.036915\n",
       "6   0.50388  0.07  0.49612  0.035088\n",
       "7   0.39260  0.08  0.60740  0.031245\n",
       "8   0.29974  0.09  0.70026  0.026836\n",
       "9   0.22178  0.10  0.77822  0.022063\n",
       "10  0.16394  0.11  0.83606  0.017940\n",
       "11  0.11474  0.12  0.88526  0.013697"
      ]
     },
     "execution_count": 66,
     "metadata": {},
     "output_type": "execute_result"
    }
   ],
   "source": [
    "aoq_list = []\n",
    "for i in range (0,len(p_a_list)):\n",
    "    aoq = (p_a_list[i]*p_list[i]*(10000-52))/10000\n",
    "    aoq_list.append(aoq)\n",
    "p_dic['AOQ'] = aoq_list\n",
    "df =pd.DataFrame(p_dic)\n",
    "df"
   ]
  },
  {
   "cell_type": "code",
   "execution_count": 67,
   "metadata": {},
   "outputs": [
    {
     "data": {
      "text/plain": [
       "[<matplotlib.lines.Line2D at 0x7f394cfbea90>]"
      ]
     },
     "execution_count": 67,
     "metadata": {},
     "output_type": "execute_result"
    },
    {
     "data": {
      "image/png": "[encoded data removed]",
      "text/plain": [
       "<Figure size 432x288 with 1 Axes>"
      ]
     },
     "metadata": {
      "needs_background": "light"
     },
     "output_type": "display_data"
    }
   ],
   "source": [
    "plt.plot( p_list, aoq_list)"
   ]
  },
  {
   "cell_type": "markdown",
   "metadata": {},
   "source": [
    "Our conclusion is that when $N \\gg n$, then we can find that $AOQ \\approx P_a \\cdot p$"
   ]
  },
  {
   "cell_type": "markdown",
   "metadata": {},
   "source": [
    "**The Average Total Inspection (ATI)**"
   ]
  },
  {
   "cell_type": "markdown",
   "metadata": {},
   "source": [
    "What is the total amount of inspection when rejected lots are screened?"
   ]
  },
  {
   "cell_type": "markdown",
   "metadata": {},
   "source": [
    "$ATI = n + (1-P_a)(N-n)$"
   ]
  },
  {
   "cell_type": "code",
   "execution_count": 70,
   "metadata": {},
   "outputs": [
    {
     "data": {
      "text/html": [
       "<div>\n",
       "<style scoped>\n",
       "    .dataframe tbody tr th:only-of-type {\n",
       "        vertical-align: middle;\n",
       "    }\n",
       "\n",
       "    .dataframe tbody tr th {\n",
       "        vertical-align: top;\n",
       "    }\n",
       "\n",
       "    .dataframe thead th {\n",
       "        text-align: right;\n",
       "    }\n",
       "</style>\n",
       "<table border=\"1\" class=\"dataframe\">\n",
       "  <thead>\n",
       "    <tr style=\"text-align: right;\">\n",
       "      <th></th>\n",
       "      <th>P_a</th>\n",
       "      <th>P_d</th>\n",
       "      <th>alpha</th>\n",
       "      <th>AOQ</th>\n",
       "      <th>ATI</th>\n",
       "    </tr>\n",
       "  </thead>\n",
       "  <tbody>\n",
       "    <tr>\n",
       "      <th>0</th>\n",
       "      <td>0.99694</td>\n",
       "      <td>0.01</td>\n",
       "      <td>0.00306</td>\n",
       "      <td>0.009918</td>\n",
       "      <td>82.44088</td>\n",
       "    </tr>\n",
       "    <tr>\n",
       "      <th>1</th>\n",
       "      <td>0.98630</td>\n",
       "      <td>0.02</td>\n",
       "      <td>0.01370</td>\n",
       "      <td>0.019623</td>\n",
       "      <td>188.28760</td>\n",
       "    </tr>\n",
       "    <tr>\n",
       "      <th>2</th>\n",
       "      <td>0.93166</td>\n",
       "      <td>0.03</td>\n",
       "      <td>0.06834</td>\n",
       "      <td>0.027804</td>\n",
       "      <td>731.84632</td>\n",
       "    </tr>\n",
       "    <tr>\n",
       "      <th>3</th>\n",
       "      <td>0.83956</td>\n",
       "      <td>0.04</td>\n",
       "      <td>0.16044</td>\n",
       "      <td>0.033408</td>\n",
       "      <td>1648.05712</td>\n",
       "    </tr>\n",
       "    <tr>\n",
       "      <th>4</th>\n",
       "      <td>0.73732</td>\n",
       "      <td>0.05</td>\n",
       "      <td>0.26268</td>\n",
       "      <td>0.036674</td>\n",
       "      <td>2665.14064</td>\n",
       "    </tr>\n",
       "    <tr>\n",
       "      <th>5</th>\n",
       "      <td>0.61846</td>\n",
       "      <td>0.06</td>\n",
       "      <td>0.38154</td>\n",
       "      <td>0.036915</td>\n",
       "      <td>3847.55992</td>\n",
       "    </tr>\n",
       "    <tr>\n",
       "      <th>6</th>\n",
       "      <td>0.50388</td>\n",
       "      <td>0.07</td>\n",
       "      <td>0.49612</td>\n",
       "      <td>0.035088</td>\n",
       "      <td>4987.40176</td>\n",
       "    </tr>\n",
       "    <tr>\n",
       "      <th>7</th>\n",
       "      <td>0.39260</td>\n",
       "      <td>0.08</td>\n",
       "      <td>0.60740</td>\n",
       "      <td>0.031245</td>\n",
       "      <td>6094.41520</td>\n",
       "    </tr>\n",
       "    <tr>\n",
       "      <th>8</th>\n",
       "      <td>0.29974</td>\n",
       "      <td>0.09</td>\n",
       "      <td>0.70026</td>\n",
       "      <td>0.026836</td>\n",
       "      <td>7018.18648</td>\n",
       "    </tr>\n",
       "    <tr>\n",
       "      <th>9</th>\n",
       "      <td>0.22178</td>\n",
       "      <td>0.10</td>\n",
       "      <td>0.77822</td>\n",
       "      <td>0.022063</td>\n",
       "      <td>7793.73256</td>\n",
       "    </tr>\n",
       "    <tr>\n",
       "      <th>10</th>\n",
       "      <td>0.16394</td>\n",
       "      <td>0.11</td>\n",
       "      <td>0.83606</td>\n",
       "      <td>0.017940</td>\n",
       "      <td>8369.12488</td>\n",
       "    </tr>\n",
       "    <tr>\n",
       "      <th>11</th>\n",
       "      <td>0.11474</td>\n",
       "      <td>0.12</td>\n",
       "      <td>0.88526</td>\n",
       "      <td>0.013697</td>\n",
       "      <td>8858.56648</td>\n",
       "    </tr>\n",
       "  </tbody>\n",
       "</table>\n",
       "</div>"
      ],
      "text/plain": [
       "        P_a   P_d    alpha       AOQ         ATI\n",
       "0   0.99694  0.01  0.00306  0.009918    82.44088\n",
       "1   0.98630  0.02  0.01370  0.019623   188.28760\n",
       "2   0.93166  0.03  0.06834  0.027804   731.84632\n",
       "3   0.83956  0.04  0.16044  0.033408  1648.05712\n",
       "4   0.73732  0.05  0.26268  0.036674  2665.14064\n",
       "5   0.61846  0.06  0.38154  0.036915  3847.55992\n",
       "6   0.50388  0.07  0.49612  0.035088  4987.40176\n",
       "7   0.39260  0.08  0.60740  0.031245  6094.41520\n",
       "8   0.29974  0.09  0.70026  0.026836  7018.18648\n",
       "9   0.22178  0.10  0.77822  0.022063  7793.73256\n",
       "10  0.16394  0.11  0.83606  0.017940  8369.12488\n",
       "11  0.11474  0.12  0.88526  0.013697  8858.56648"
      ]
     },
     "execution_count": 70,
     "metadata": {},
     "output_type": "execute_result"
    }
   ],
   "source": [
    "ati_list = []\n",
    "for i in range (0,len(p_a_list)):\n",
    "    ati = 52 + ((1 -p_a_list[i])*(10000-52))\n",
    "    ati_list.append(ati)\n",
    "p_dic['ATI'] = ati_list\n",
    "df =pd.DataFrame(p_dic)\n",
    "df"
   ]
  },
  {
   "cell_type": "code",
   "execution_count": 71,
   "metadata": {},
   "outputs": [
    {
     "data": {
      "text/plain": [
       "[<matplotlib.lines.Line2D at 0x7f394cf9d670>]"
      ]
     },
     "execution_count": 71,
     "metadata": {},
     "output_type": "execute_result"
    },
    {
     "data": {
      "image/png": "[encoded data removed]",
      "text/plain": [
       "<Figure size 432x288 with 1 Axes>"
      ]
     },
     "metadata": {
      "needs_background": "light"
     },
     "output_type": "display_data"
    }
   ],
   "source": [
    "plt.plot( p_list, ati_list)"
   ]
  },
  {
   "cell_type": "markdown",
   "metadata": {},
   "source": [
    "## Double Sample test"
   ]
  },
  {
   "cell_type": "code",
   "execution_count": null,
   "metadata": {},
   "outputs": [],
   "source": []
  }
 ],
 "metadata": {
  "kernelspec": {
   "display_name": "Python 3",
   "language": "python",
   "name": "python3"
  },
  "language_info": {
   "codemirror_mode": {
    "name": "ipython",
    "version": 3
   },
   "file_extension": ".py",
   "mimetype": "text/x-python",
   "name": "python",
   "nbconvert_exporter": "python",
   "pygments_lexer": "ipython3",
   "version": "3.8.5"
  }
 },
 "nbformat": 4,
 "nbformat_minor": 4
}
