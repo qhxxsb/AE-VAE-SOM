{
 "cells": [
  {
   "cell_type": "markdown",
   "metadata": {},
   "source": [
    "### This notebook is made for the sampling problems"
   ]
  },
  {
   "cell_type": "markdown",
   "metadata": {},
   "source": [
    " **Choosing a Sampling Plan with a given OC Curve**"
   ]
  },
  {
   "cell_type": "markdown",
   "metadata": {},
   "source": [
    "The probability of observing exactly d defectives is given by:\n",
    "$P_d = f(d) = \\frac{n!}{d!(n-d)!} \\cdot{p^d}\\cdot{(1-p)}^{(n-d)}$ "
   ]
  },
  {
   "cell_type": "markdown",
   "metadata": {},
   "source": [
    "Using this formula with $n=52,\\ c=3,\\ and\\ p=0.01,0.02,…,0.12$, which means that we default believe $P_d = p$.\n",
    "\n",
    "The probability of acceptance is the probability that d, the number of defectives, is less than or equal to c, the accept number. This means that:\n",
    "$P_a = P(d\\le c) = \\sum_{d=0}^{c}\\frac{n!}{d!(n-d)!} \\cdot{p^d}\\cdot{(1-p)}^{(n-d)}$, then we find:"
   ]
  },
  {
   "cell_type": "code",
   "execution_count": 28,
   "metadata": {},
   "outputs": [
    {
     "data": {
      "text/html": [
       "<div>\n",
       "<style scoped>\n",
       "    .dataframe tbody tr th:only-of-type {\n",
       "        vertical-align: middle;\n",
       "    }\n",
       "\n",
       "    .dataframe tbody tr th {\n",
       "        vertical-align: top;\n",
       "    }\n",
       "\n",
       "    .dataframe thead th {\n",
       "        text-align: right;\n",
       "    }\n",
       "</style>\n",
       "<table border=\"1\" class=\"dataframe\">\n",
       "  <thead>\n",
       "    <tr style=\"text-align: right;\">\n",
       "      <th></th>\n",
       "      <th>P_d</th>\n",
       "      <th>P_a</th>\n",
       "    </tr>\n",
       "  </thead>\n",
       "  <tbody>\n",
       "    <tr>\n",
       "      <th>0</th>\n",
       "      <td>0.98780</td>\n",
       "      <td>0.01</td>\n",
       "    </tr>\n",
       "    <tr>\n",
       "      <th>1</th>\n",
       "      <td>0.99210</td>\n",
       "      <td>0.02</td>\n",
       "    </tr>\n",
       "    <tr>\n",
       "      <th>2</th>\n",
       "      <td>0.93320</td>\n",
       "      <td>0.03</td>\n",
       "    </tr>\n",
       "    <tr>\n",
       "      <th>3</th>\n",
       "      <td>0.85145</td>\n",
       "      <td>0.04</td>\n",
       "    </tr>\n",
       "    <tr>\n",
       "      <th>4</th>\n",
       "      <td>0.73505</td>\n",
       "      <td>0.05</td>\n",
       "    </tr>\n",
       "    <tr>\n",
       "      <th>5</th>\n",
       "      <td>0.61705</td>\n",
       "      <td>0.06</td>\n",
       "    </tr>\n",
       "    <tr>\n",
       "      <th>6</th>\n",
       "      <td>0.49830</td>\n",
       "      <td>0.07</td>\n",
       "    </tr>\n",
       "    <tr>\n",
       "      <th>7</th>\n",
       "      <td>0.39485</td>\n",
       "      <td>0.08</td>\n",
       "    </tr>\n",
       "    <tr>\n",
       "      <th>8</th>\n",
       "      <td>0.30720</td>\n",
       "      <td>0.09</td>\n",
       "    </tr>\n",
       "    <tr>\n",
       "      <th>9</th>\n",
       "      <td>0.22425</td>\n",
       "      <td>0.10</td>\n",
       "    </tr>\n",
       "    <tr>\n",
       "      <th>10</th>\n",
       "      <td>0.16265</td>\n",
       "      <td>0.11</td>\n",
       "    </tr>\n",
       "    <tr>\n",
       "      <th>11</th>\n",
       "      <td>0.11455</td>\n",
       "      <td>0.12</td>\n",
       "    </tr>\n",
       "  </tbody>\n",
       "</table>\n",
       "</div>"
      ],
      "text/plain": [
       "        P_d   P_a\n",
       "0   0.98780  0.01\n",
       "1   0.99210  0.02\n",
       "2   0.93320  0.03\n",
       "3   0.85145  0.04\n",
       "4   0.73505  0.05\n",
       "5   0.61705  0.06\n",
       "6   0.49830  0.07\n",
       "7   0.39485  0.08\n",
       "8   0.30720  0.09\n",
       "9   0.22425  0.10\n",
       "10  0.16265  0.11\n",
       "11  0.11455  0.12"
      ]
     },
     "execution_count": 28,
     "metadata": {},
     "output_type": "execute_result"
    }
   ],
   "source": [
    "import numpy as np\n",
    "import pandas as pd\n",
    "p_list = []\n",
    "for i in range (1,13):\n",
    "    p_list.append(i/100)\n",
    "p_d_list = []\n",
    "p_a_list = []\n",
    "for i in range (0,len(p_list)):\n",
    "    #p_d = sum(np.random.binomial(52,p_list[i],50000)==3)/50000\n",
    "    accpet_0_def = sum(np.random.binomial(52,p_list[i],20000)==0)\n",
    "    accpet_1_def = sum(np.random.binomial(52,p_list[i],20000)==1)\n",
    "    accpet_2_def =sum(np.random.binomial(52,p_list[i],20000)==2)\n",
    "    accpet_3_def =sum(np.random.binomial(52,p_list[i],20000)==3)\n",
    "    p_d = (accpet_0_def+accpet_1_def+accpet_2_def+accpet_3_def)/20000 \n",
    "    p_d_list.append(p_d)\n",
    "   # p_a_list.append(p_a)\n",
    "p_dic = {'P_d':p_d_list,'P_a':p_list}\n",
    "df =pd.DataFrame(p_dic)\n",
    "df"
   ]
  },
  {
   "cell_type": "code",
   "execution_count": 29,
   "metadata": {},
   "outputs": [
    {
     "data": {
      "text/plain": [
       "[<matplotlib.lines.Line2D at 0x7f394d327a30>]"
      ]
     },
     "execution_count": 29,
     "metadata": {},
     "output_type": "execute_result"
    },
    {
     "data": {
      "image/png": "[encoded data removed]",
      "text/plain": [
       "<Figure size 432x288 with 1 Axes>"
      ]
     },
     "metadata": {
      "needs_background": "light"
     },
     "output_type": "display_data"
    }
   ],
   "source": [
    "import matplotlib.pyplot as plt \n",
    "plt.plot( p_d_list)"
   ]
  }
 ],
 "metadata": {
  "kernelspec": {
   "display_name": "Python 3",
   "language": "python",
   "name": "python3"
  },
  "language_info": {
   "codemirror_mode": {
    "name": "ipython",
    "version": 3
   },
   "file_extension": ".py",
   "mimetype": "text/x-python",
   "name": "python",
   "nbconvert_exporter": "python",
   "pygments_lexer": "ipython3",
   "version": "3.8.5"
  }
 },
 "nbformat": 4,
 "nbformat_minor": 4
}
